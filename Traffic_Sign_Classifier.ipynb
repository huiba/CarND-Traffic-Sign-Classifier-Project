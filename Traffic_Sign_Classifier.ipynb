{
  "nbformat": 4,
  "nbformat_minor": 0,
  "metadata": {
    "anaconda-cloud": {},
    "kernelspec": {
      "display_name": "Python 3",
      "language": "python",
      "name": "python3"
    },
    "language_info": {
      "codemirror_mode": {
        "name": "ipython",
        "version": 3
      },
      "file_extension": ".py",
      "mimetype": "text/x-python",
      "name": "python",
      "nbconvert_exporter": "python",
      "pygments_lexer": "ipython3",
      "version": "3.5.2"
    },
    "colab": {
      "name": "Copy of Traffic_Sign_Classifier.ipynb",
      "provenance": [],
      "collapsed_sections": [],
      "include_colab_link": true
    },
    "accelerator": "GPU"
  },
  "cells": [
    {
      "cell_type": "markdown",
      "metadata": {
        "id": "view-in-github",
        "colab_type": "text"
      },
      "source": [
        "<a href=\"https://colab.research.google.com/github/huiba/CarND-Traffic-Sign-Classifier-Project/blob/test_colab/Traffic_Sign_Classifier.ipynb\" target=\"_parent\"><img src=\"https://colab.research.google.com/assets/colab-badge.svg\" alt=\"Open In Colab\"/></a>"
      ]
    },
    {
      "cell_type": "markdown",
      "metadata": {
        "id": "UCFStEEJ0DIR"
      },
      "source": [
        "# Self-Driving Car Engineer Nanodegree\n",
        "\n",
        "## Deep Learning\n",
        "\n",
        "## Project: Build a Traffic Sign Recognition Classifier\n",
        "\n",
        "In this notebook, a template is provided for you to implement your functionality in stages, which is required to successfully complete this project. If additional code is required that cannot be included in the notebook, be sure that the Python code is successfully imported and included in your submission if necessary. \n",
        "\n",
        "> **Note**: Once you have completed all of the code implementations, you need to finalize your work by exporting the iPython Notebook as an HTML document. Before exporting the notebook to html, all of the code cells need to have been run so that reviewers can see the final implementation and output. You can then export the notebook by using the menu above and navigating to  \\n\",\n",
        "    \"**File -> Download as -> HTML (.html)**. Include the finished document along with this notebook as your submission. \n",
        "\n",
        "In addition to implementing code, there is a writeup to complete. The writeup should be completed in a separate file, which can be either a markdown file or a pdf document. There is a [write up template](https://github.com/udacity/CarND-Traffic-Sign-Classifier-Project/blob/master/writeup_template.md) that can be used to guide the writing process. Completing the code template and writeup template will cover all of the [rubric points](https://review.udacity.com/#!/rubrics/481/view) for this project.\n",
        "\n",
        "The [rubric](https://review.udacity.com/#!/rubrics/481/view) contains \"Stand Out Suggestions\" for enhancing the project beyond the minimum requirements. The stand out suggestions are optional. If you decide to pursue the \"stand out suggestions\", you can include the code in this Ipython notebook and also discuss the results in the writeup file.\n",
        "\n",
        "\n",
        ">**Note:** Code and Markdown cells can be executed using the **Shift + Enter** keyboard shortcut. In addition, Markdown cells can be edited by typically double-clicking the cell to enter edit mode."
      ]
    },
    {
      "cell_type": "code",
      "metadata": {
        "colab": {
          "base_uri": "https://localhost:8080/",
          "height": 17
        },
        "id": "IMNrGuu0n5dk",
        "outputId": "13bb4e1b-8dfa-4a64-8cf9-1d559986dd6e"
      },
      "source": [
        "%%javascript\n",
        "function ClickConnect(){\n",
        "console.log(\"Working\");\n",
        "document.querySelector(\"colab-toolbar-button#connect\").click()\n",
        "}setInterval(ClickConnect,60000)"
      ],
      "execution_count": 15,
      "outputs": [
        {
          "output_type": "display_data",
          "data": {
            "application/javascript": [
              "function ClickConnect(){\n",
              "console.log(\"Working\");\n",
              "document.querySelector(\"colab-toolbar-button#connect\").click()\n",
              "}setInterval(ClickConnect,60000)"
            ],
            "text/plain": [
              "<IPython.core.display.Javascript object>"
            ]
          },
          "metadata": {
            "tags": []
          }
        }
      ]
    },
    {
      "cell_type": "markdown",
      "metadata": {
        "id": "Iiub0D780DIU"
      },
      "source": [
        "---\n",
        "## Step 0: Load The Data"
      ]
    },
    {
      "cell_type": "code",
      "metadata": {
        "id": "XoVQ9TbBB7g6",
        "colab": {
          "base_uri": "https://localhost:8080/"
        },
        "outputId": "7fad72ef-9812-4080-c991-f223fa628b60"
      },
      "source": [
        "from google.colab import drive\n",
        "drive.mount('/content/drive')\n",
        "#!wget https://s3-us-west-1.amazonaws.com/udacity-selfdrivingcar/traffic-signs-data.zip -P /content/drive/MyDrive/data/\n",
        "!mkdir data\n",
        "!unzip /content/drive/MyDrive/data/traffic-signs-data.zip -d ./data"
      ],
      "execution_count": 1,
      "outputs": [
        {
          "output_type": "stream",
          "text": [
            "Mounted at /content/drive\n",
            "Archive:  /content/drive/MyDrive/data/traffic-signs-data.zip\n",
            "  inflating: ./data/test.p           \n",
            "  inflating: ./data/train.p          \n",
            "  inflating: ./data/valid.p          \n"
          ],
          "name": "stdout"
        }
      ]
    },
    {
      "cell_type": "code",
      "metadata": {
        "id": "FShnARJF0DIU"
      },
      "source": [
        "# Load pickled data\n",
        "import pickle\n",
        "\n",
        "# TODO: Fill this in based on where you saved the training and testing data\n",
        "\n",
        "training_file = 'data/train.p'\n",
        "validation_file = 'data/valid.p' \n",
        "testing_file = 'data/test.p'\n",
        "\n",
        "with open(training_file, mode='rb') as f:\n",
        "    train = pickle.load(f)\n",
        "with open(validation_file, mode='rb') as f:\n",
        "    valid = pickle.load(f)\n",
        "with open(testing_file, mode='rb') as f:\n",
        "    test = pickle.load(f)\n",
        "    \n",
        "X_train, y_train = train['features'], train['labels']\n",
        "X_valid, y_valid = valid['features'], valid['labels']\n",
        "X_test, y_test = test['features'], test['labels']"
      ],
      "execution_count": 2,
      "outputs": []
    },
    {
      "cell_type": "markdown",
      "metadata": {
        "id": "86Xzkx9t0DIV"
      },
      "source": [
        "---\n",
        "\n",
        "## Step 1: Dataset Summary & Exploration\n",
        "\n",
        "The pickled data is a dictionary with 4 key/value pairs:\n",
        "\n",
        "- `'features'` is a 4D array containing raw pixel data of the traffic sign images, (num examples, width, height, channels).\n",
        "- `'labels'` is a 1D array containing the label/class id of the traffic sign. The file `signnames.csv` contains id -> name mappings for each id.\n",
        "- `'sizes'` is a list containing tuples, (width, height) representing the original width and height the image.\n",
        "- `'coords'` is a list containing tuples, (x1, y1, x2, y2) representing coordinates of a bounding box around the sign in the image. **THESE COORDINATES ASSUME THE ORIGINAL IMAGE. THE PICKLED DATA CONTAINS RESIZED VERSIONS (32 by 32) OF THESE IMAGES**\n",
        "\n",
        "Complete the basic data summary below. Use python, numpy and/or pandas methods to calculate the data summary rather than hard coding the results. For example, the [pandas shape method](http://pandas.pydata.org/pandas-docs/stable/generated/pandas.DataFrame.shape.html) might be useful for calculating some of the summary results. "
      ]
    },
    {
      "cell_type": "markdown",
      "metadata": {
        "id": "ZvzZXqTA0DIV"
      },
      "source": [
        "### Provide a Basic Summary of the Data Set Using Python, Numpy and/or Pandas"
      ]
    },
    {
      "cell_type": "code",
      "metadata": {
        "collapsed": true,
        "id": "j0L-jJ-S0DIW",
        "colab": {
          "base_uri": "https://localhost:8080/"
        },
        "outputId": "42ce0081-0014-4b2f-f1eb-3ede32379a9b"
      },
      "source": [
        "### Replace each question mark with the appropriate value. \n",
        "### Use python, pandas or numpy methods rather than hard coding the results\n",
        "import numpy as np\n",
        "\n",
        "# TODO: Number of training examples\n",
        "n_train = X_train.shape[0]\n",
        "\n",
        "# TODO: Number of validation examples\n",
        "n_validation = X_valid.shape[0]\n",
        "\n",
        "# TODO: Number of testing examples.\n",
        "n_test = X_test.shape[0]\n",
        "\n",
        "# TODO: What's the shape of an traffic sign image?\n",
        "image_shape = X_train.shape[1:]\n",
        "\n",
        "# TODO: How many unique classes/labels there are in the dataset.\n",
        "classes, counts = np.unique(y_train, return_counts=True)\n",
        "n_classes = classes.shape[0]\n",
        "\n",
        "print(\"Number of training examples =\", n_train)\n",
        "print(\"Number of validation examples =\", n_validation)\n",
        "print(\"Number of testing examples =\", n_test)\n",
        "print(\"Image data shape =\", image_shape)\n",
        "print(\"Number of classes =\", n_classes)\n",
        "#plt.hist(y_train, density=True)\n",
        "\n"
      ],
      "execution_count": 3,
      "outputs": [
        {
          "output_type": "stream",
          "text": [
            "Number of training examples = 34799\n",
            "Number of validation examples = 4410\n",
            "Number of testing examples = 12630\n",
            "Image data shape = (32, 32, 3)\n",
            "Number of classes = 43\n"
          ],
          "name": "stdout"
        }
      ]
    },
    {
      "cell_type": "markdown",
      "metadata": {
        "id": "cow_Wzd5c7VR"
      },
      "source": [
        "#### Class histogram\n"
      ]
    },
    {
      "cell_type": "code",
      "metadata": {
        "colab": {
          "base_uri": "https://localhost:8080/",
          "height": 351
        },
        "id": "AE5ByXZVc5GP",
        "outputId": "7f235183-65be-418d-c795-6e81c5c99219"
      },
      "source": [
        "import matplotlib.pyplot as plt\n",
        "from mpl_toolkits.axes_grid1 import ImageGrid\n",
        "%matplotlib inline\n",
        "fig, ax = plt.subplots(figsize = (15,5))\n",
        "ax.bar(classes, counts, width=0.4)\n",
        "#Now the trick is here.\n",
        "#plt.text() , you need to give (x,y) location , where you want to put the numbers,\n",
        "#So here index will give you x pos and data+1 will provide a little gap in y axis.\n",
        "ax.set_xticks(classes)\n",
        "for index, data in enumerate(counts):\n",
        "    plt.text(x=index - 0.4 , y =data+20 , s=f\"{data}\" , fontdict=dict(fontsize=8))\n",
        "plt.tight_layout()\n",
        "plt.show()"
      ],
      "execution_count": 4,
      "outputs": [
        {
          "output_type": "display_data",
          "data": {
            "image/png": "[encoded data removed]",
            "text/plain": [
              "<Figure size 1080x360 with 1 Axes>"
            ]
          },
          "metadata": {
            "tags": [],
            "needs_background": "light"
          }
        }
      ]
    },
    {
      "cell_type": "markdown",
      "metadata": {
        "id": "DMKx7FHA0DIW"
      },
      "source": [
        "### Include an exploratory visualization of the dataset"
      ]
    },
    {
      "cell_type": "markdown",
      "metadata": {
        "id": "_-GRNO3d0DIX"
      },
      "source": [
        "Visualize the German Traffic Signs Dataset using the pickled file(s). This is open ended, suggestions include: plotting traffic sign images, plotting the count of each sign, etc. \n",
        "\n",
        "The [Matplotlib](http://matplotlib.org/) [examples](http://matplotlib.org/examples/index.html) and [gallery](http://matplotlib.org/gallery.html) pages are a great resource for doing visualizations in Python.\n",
        "\n",
        "**NOTE:** It's recommended you start with something simple first. If you wish to do more, come back to it after you've completed the rest of the sections. It can be interesting to look at the distribution of classes in the training, validation and test set. Is the distribution the same? Are there more examples of some classes than others?"
      ]
    },
    {
      "cell_type": "code",
      "metadata": {
        "collapsed": true,
        "id": "nCM14fJJ0DIY",
        "colab": {
          "base_uri": "https://localhost:8080/",
          "height": 702
        },
        "outputId": "4c739017-582f-403c-aab6-722d87d53dc0"
      },
      "source": [
        "### Data exploration visualization code goes here.\n",
        "### Feel free to use as many code cells as needed.\n",
        "plt_r = 6\n",
        "plt_c = 4\n",
        "\n",
        "fig = plt.figure(figsize=(18., 12.))\n",
        "grid = ImageGrid(fig, 111,  # similar to subplot(111)\n",
        "                 nrows_ncols=(plt_c, plt_r),  # creates 2x2 grid of axes\n",
        "                 axes_pad=0.1,  # pad between axes in inch.\n",
        "                 )\n",
        "plt_ims = [X_train[i] for i in range(0, plt_r * plt_c * 120, 120)]\n",
        "for ax, im in zip(grid, plt_ims):\n",
        "    # Iterating over the grid returns the Axes.\n",
        "    ax.imshow(im)"
      ],
      "execution_count": 5,
      "outputs": [
        {
          "output_type": "display_data",
          "data": {
            "image/png": "[encoded data removed]",
            "text/plain": [
              "<Figure size 1296x864 with 48 Axes>"
            ]
          },
          "metadata": {
            "tags": [],
            "needs_background": "light"
          }
        }
      ]
    },
    {
      "cell_type": "markdown",
      "metadata": {
        "id": "3FMZnXFO0DIY"
      },
      "source": [
        "----\n",
        "\n",
        "## Step 2: Design and Test a Model Architecture\n",
        "\n",
        "Design and implement a deep learning model that learns to recognize traffic signs. Train and test your model on the [German Traffic Sign Dataset](http://benchmark.ini.rub.de/?section=gtsrb&subsection=dataset).\n",
        "\n",
        "The LeNet-5 implementation shown in the [classroom](https://classroom.udacity.com/nanodegrees/nd013/parts/fbf77062-5703-404e-b60c-95b78b2f3f9e/modules/6df7ae49-c61c-4bb2-a23e-6527e69209ec/lessons/601ae704-1035-4287-8b11-e2c2716217ad/concepts/d4aca031-508f-4e0b-b493-e7b706120f81) at the end of the CNN lesson is a solid starting point. You'll have to change the number of classes and possibly the preprocessing, but aside from that it's plug and play! \n",
        "\n",
        "With the LeNet-5 solution from the lecture, you should expect a validation set accuracy of about 0.89. To meet specifications, the validation set accuracy will need to be at least 0.93. It is possible to get an even higher accuracy, but 0.93 is the minimum for a successful project submission. \n",
        "\n",
        "There are various aspects to consider when thinking about this problem:\n",
        "\n",
        "- Neural network architecture (is the network over or underfitting?)\n",
        "- Play around preprocessing techniques (normalization, rgb to grayscale, etc)\n",
        "- Number of examples per label (some have more than others).\n",
        "- Generate fake data.\n",
        "\n",
        "Here is an example of a [published baseline model on this problem](http://yann.lecun.com/exdb/publis/pdf/sermanet-ijcnn-11.pdf). It's not required to be familiar with the approach used in the paper but, it's good practice to try to read papers like these."
      ]
    },
    {
      "cell_type": "markdown",
      "metadata": {
        "id": "1KR8VZQe0DIZ"
      },
      "source": [
        "### Pre-process the Data Set (normalization, grayscale, etc.)"
      ]
    },
    {
      "cell_type": "markdown",
      "metadata": {
        "id": "mp7ak_GJ0DIZ"
      },
      "source": [
        "Minimally, the image data should be normalized so that the data has mean zero and equal variance. For image data, `(pixel - 128)/ 128` is a quick way to approximately normalize the data and can be used in this project. \n",
        "\n",
        "Other pre-processing steps are optional. You can try different techniques to see if it improves performance. \n",
        "\n",
        "Use the code cell (or multiple code cells, if necessary) to implement the first step of your project."
      ]
    },
    {
      "cell_type": "code",
      "metadata": {
        "id": "dXfZjmTjCmK8"
      },
      "source": [
        "import tensorflow as tf"
      ],
      "execution_count": 53,
      "outputs": []
    },
    {
      "cell_type": "code",
      "metadata": {
        "id": "UIH2sBW4CosK"
      },
      "source": [
        "# Generate the dataset\n",
        "AUTOTUNE = tf.data.AUTOTUNE\n",
        "\n",
        "def get_dataset(X, y, train=True, batch_size=32):\n",
        "    ds = tf.data.Dataset.from_tensor_slices((X, y))\n",
        "    ds = ds.map(lambda x, y: (tf.cast(x, tf.float32), y))\n",
        "    #ds = ds.map(lambda x, y: (tf.image.rgb_to_grayscale(x), y),\n",
        "    #            num_parallel_calls=AUTOTUNE)\n",
        "    #ds = ds.map(lambda x, y: (tf.image.per_image_standardization(x), y),\n",
        "    #            num_parallel_calls=AUTOTUNE)\n",
        "    ds = ds.map(lambda x, y: ((x - 128)/128, y))\n",
        "    if train:\n",
        "        ds = ds.map(lambda x, y: (tf.image.random_flip_left_right(x), y),\n",
        "                                num_parallel_calls=AUTOTUNE)\n",
        "        ds = ds.shuffle(15000)\n",
        "    ds = ds.batch(batch_size) \n",
        "    return ds.prefetch(buffer_size=AUTOTUNE)\n",
        "\n",
        "train_ds = get_dataset(X_train, y_train)\n",
        "val_ds = get_dataset(X_valid, y_valid, train=False)\n",
        "test_ds = get_dataset(X_test, y_test, train=False)"
      ],
      "execution_count": 76,
      "outputs": []
    },
    {
      "cell_type": "code",
      "metadata": {
        "id": "9xEsnAdh1rRH"
      },
      "source": [
        ""
      ],
      "execution_count": 76,
      "outputs": []
    },
    {
      "cell_type": "code",
      "metadata": {
        "colab": {
          "base_uri": "https://localhost:8080/"
        },
        "id": "h9JBm-UeCxfC",
        "outputId": "1fa1d13f-532a-4d6d-ef9d-d9ae90ab578a"
      },
      "source": [
        "for i, l in train_ds.take(1):\n",
        "    print(i.numpy().shape)\n",
        "    print(l.numpy())"
      ],
      "execution_count": 77,
      "outputs": [
        {
          "output_type": "stream",
          "text": [
            "(32, 32, 32, 3)\n",
            "[ 9  5 16 40  1  1 31 26 26  3  1  9 11 11  3 26  4  1 40 31 22 38 26  9\n",
            " 29  5  1 11 41  1  4  9]\n"
          ],
          "name": "stdout"
        }
      ]
    },
    {
      "cell_type": "code",
      "metadata": {
        "collapsed": true,
        "id": "_3up1R600DIa"
      },
      "source": [
        "### Preprocess the data here. It is required to normalize the data. Other preprocessing steps could include \n",
        "### converting to grayscale, etc.\n",
        "### Feel free to use as many code cells as needed."
      ],
      "execution_count": 78,
      "outputs": []
    },
    {
      "cell_type": "code",
      "metadata": {
        "id": "-MFPVI4KiabC"
      },
      "source": [
        ""
      ],
      "execution_count": 78,
      "outputs": []
    },
    {
      "cell_type": "markdown",
      "metadata": {
        "id": "GLEbvbSh0DIa"
      },
      "source": [
        "### Model Architecture"
      ]
    },
    {
      "cell_type": "code",
      "metadata": {
        "collapsed": true,
        "id": "SrlcDrso0DIa"
      },
      "source": [
        "### Define your architecture here.\n",
        "### Feel free to use as many code cells as needed.\n",
        "from tensorflow.keras import Model\n",
        "from tensorflow.keras.layers import MaxPool2D, Flatten, Dense, Conv2D\n",
        "\n",
        "class LeNet(Model):\n",
        "    def __init__(self, num_cls=43):\n",
        "        super(LeNet, self).__init__()\n",
        "        self.num_cls = num_cls;\n",
        "        self.conv1 = Conv2D(6, 5, padding='valid', activation='relu', kernel_regularizer='l2')\n",
        "        self.pool = MaxPool2D(pool_size=(2,2))\n",
        "        self.conv2 = Conv2D(16, 5, padding='valid', activation='relu', kernel_regularizer='l2')\n",
        "        self.conv21 = Conv2D(24, 5, padding='same', activation='relu', kernel_regularizer='l2')\n",
        "        self.flatten = Flatten() \n",
        "        self.dense1 = Dense(120,activation='relu', kernel_regularizer='l2')\n",
        "        self.dense2 = Dense(84,activation='relu', kernel_regularizer='l2')\n",
        "        self.dense3 = Dense(self.num_cls, kernel_regularizer='l2')\n",
        "        self.softmax = tf.keras.layers.Softmax()\n",
        "        self.dropout = tf.keras.layers.Dropout(0.5)\n",
        "    def call(self, x):\n",
        "        x = self.conv1(x) \n",
        "        x = self.pool(x) \n",
        "        x = self.conv2(x) \n",
        "        x = self.conv21(x) \n",
        "        x = self.pool(x)\n",
        "        x = self.flatten(x)\n",
        "        x = self.dense1(x)\n",
        "        x = self.dropout(x)\n",
        "        x = self.dense2(x)\n",
        "        x = self.dropout(x)\n",
        "        x = self.dense3(x)\n",
        "        return self.softmax(x)\n",
        "\n",
        "model = LeNet()\n",
        "        "
      ],
      "execution_count": 102,
      "outputs": []
    },
    {
      "cell_type": "code",
      "metadata": {
        "colab": {
          "base_uri": "https://localhost:8080/"
        },
        "id": "yTbQUiqUMlaZ",
        "outputId": "c43f4cce-e7fa-481a-ef75-71e77230169f"
      },
      "source": [
        " for d in train_ds.take(1):\n",
        "    dummy_input = d[0]\n",
        "model(dummy_input)"
      ],
      "execution_count": 103,
      "outputs": [
        {
          "output_type": "execute_result",
          "data": {
            "text/plain": [
              "<tf.Tensor: shape=(32, 43), dtype=float32, numpy=\n",
              "array([[0.02427449, 0.02436318, 0.02470167, ..., 0.0235752 , 0.02606675,\n",
              "        0.0231145 ],\n",
              "       [0.02390781, 0.02355566, 0.02377514, ..., 0.02396526, 0.02537455,\n",
              "        0.02277694],\n",
              "       [0.02331173, 0.02326797, 0.02217815, ..., 0.02256234, 0.0276397 ,\n",
              "        0.02308811],\n",
              "       ...,\n",
              "       [0.02429005, 0.02425516, 0.02449269, ..., 0.02403815, 0.02599018,\n",
              "        0.02349971],\n",
              "       [0.02388012, 0.02400513, 0.02356787, ..., 0.02450296, 0.02574956,\n",
              "        0.0226641 ],\n",
              "       [0.02370653, 0.02662342, 0.02366137, ..., 0.02350414, 0.02545049,\n",
              "        0.02359191]], dtype=float32)>"
            ]
          },
          "metadata": {
            "tags": []
          },
          "execution_count": 103
        }
      ]
    },
    {
      "cell_type": "code",
      "metadata": {
        "id": "5Iy7YACi3GTN"
      },
      "source": [
        "regularization_loss = tf.add_n(model.losses)\n",
        "cross_entropy_loss = tf.keras.losses.SparseCategoricalCrossentropy()\n",
        "#loss_func = cross_entropy + regularization_loss\n",
        "optimizer = tf.keras.optimizers.Adam(learning_rate=0.001, amsgrad=True)\n",
        "\n",
        "train_loss = tf.keras.metrics.Mean(name='train_loss')\n",
        "train_acc = tf.keras.metrics.SparseCategoricalAccuracy(name='train_acc')\n",
        "\n",
        "val_loss = tf.keras.metrics.Mean(name='val_loss')\n",
        "val_acc = tf.keras.metrics.SparseCategoricalAccuracy(name='val_acc')\n",
        "\n",
        "test_loss = tf.keras.metrics.Mean(name='test_loss')\n",
        "test_acc = tf.keras.metrics.SparseCategoricalAccuracy(name='test_acc')\n"
      ],
      "execution_count": 104,
      "outputs": []
    },
    {
      "cell_type": "code",
      "metadata": {
        "id": "7J4XWcyEA-Y_"
      },
      "source": [
        "@tf.function\n",
        "def train_step(images, labels):\n",
        "    with tf.GradientTape() as tape:\n",
        "        predictions = model(images, training=True)\n",
        "        loss = cross_entropy_loss(labels, predictions) + regularization_loss\n",
        "    gradients = tape.gradient(loss, model.trainable_variables)\n",
        "    optimizer.apply_gradients(zip(gradients, model.trainable_variables))\n",
        "\n",
        "    train_loss(loss)\n",
        "    train_acc(labels, predictions)\n",
        "\n",
        "\n"
      ],
      "execution_count": 105,
      "outputs": []
    },
    {
      "cell_type": "code",
      "metadata": {
        "id": "s_vOCAqEEPkU"
      },
      "source": [
        "@tf.function\n",
        "def val_step(images, labels):\n",
        "    predictions = model(images, training=False)\n",
        "    loss = loss_func(labels, predictions)\n",
        "\n",
        "    val_loss(loss)\n",
        "    val_acc(labels, predictions)\n",
        "\n",
        "@tf.function\n",
        "def test_step(images, labels):\n",
        "    predictions = model(images, training=False)\n",
        "    loss = loss_func(labels, predictions)\n",
        "\n",
        "    test_loss(loss)\n",
        "    test_acc(labels, predictions)"
      ],
      "execution_count": 106,
      "outputs": []
    },
    {
      "cell_type": "markdown",
      "metadata": {
        "id": "A2T00wiu0DIa"
      },
      "source": [
        "### Train, Validate and Test the Model"
      ]
    },
    {
      "cell_type": "markdown",
      "metadata": {
        "id": "20nFvDTP0DIb"
      },
      "source": [
        "A validation set can be used to assess how well the model is performing. A low accuracy on the training and validation\n",
        "sets imply underfitting. A high accuracy on the training set but low accuracy on the validation set implies overfitting."
      ]
    },
    {
      "cell_type": "code",
      "metadata": {
        "collapsed": true,
        "id": "FqmvTXYM0DIb",
        "colab": {
          "base_uri": "https://localhost:8080/"
        },
        "outputId": "75eef9d7-94d8-48bc-e196-da74645d099f"
      },
      "source": [
        "EPOCHS = 500\n",
        "for epoch in range(EPOCHS):\n",
        "    # Reset the metrics at the start of the next epoch\n",
        "    train_loss.reset_states()\n",
        "    train_acc.reset_states()\n",
        "    test_loss.reset_states()\n",
        "    test_acc.reset_states()\n",
        "    \n",
        "    for images, labels in train_ds:\n",
        "        train_step(images, labels)\n",
        "    \n",
        "    for val_images, val_labels in val_ds:\n",
        "        val_step(val_images, val_labels)\n",
        "    \n",
        "    print(\n",
        "        f'Epoch {epoch + 1}, '\n",
        "        f'Loss: {train_loss.result()}, '\n",
        "        f'Accuracy: {train_acc.result() * 100}, '\n",
        "        f'Val Loss: {val_loss.result()}, '\n",
        "        f'Val Accuracy: {val_acc.result() * 100}'\n",
        "    )\n",
        "    if epoch % 100:\n",
        "        model.save_weights(f'drive/MyDrive/weights/{epoch}.h5')"
      ],
      "execution_count": 107,
      "outputs": [
        {
          "output_type": "stream",
          "text": [
            "Epoch 1, Loss: 6.119293689727783, Accuracy: 39.55573272705078, Val Loss: 1.1586099863052368, Val Accuracy: 61.76870346069336\n",
            "Epoch 2, Loss: 4.842356204986572, Accuracy: 69.29222106933594, Val Loss: 0.915367066860199, Val Accuracy: 69.8299331665039\n",
            "Epoch 3, Loss: 4.520298004150391, Accuracy: 79.36721801757812, Val Loss: 0.8044804334640503, Val Accuracy: 73.91534423828125\n",
            "Epoch 4, Loss: 4.385766983032227, Accuracy: 83.56849670410156, Val Loss: 0.716044545173645, Val Accuracy: 76.8140640258789\n",
            "Epoch 5, Loss: 4.305659294128418, Accuracy: 86.33868408203125, Val Loss: 0.6545795798301697, Val Accuracy: 78.82086181640625\n",
            "Epoch 6, Loss: 4.257755756378174, Accuracy: 87.79850006103516, Val Loss: 0.6034010052680969, Val Accuracy: 80.5857925415039\n",
            "Epoch 7, Loss: 4.212225437164307, Accuracy: 89.33589935302734, Val Loss: 0.5798373818397522, Val Accuracy: 81.3702621459961\n",
            "Epoch 8, Loss: 4.188352584838867, Accuracy: 90.22673034667969, Val Loss: 0.552318274974823, Val Accuracy: 82.39796447753906\n",
            "Epoch 9, Loss: 4.163814544677734, Accuracy: 90.89054107666016, Val Loss: 0.5306456685066223, Val Accuracy: 83.29553985595703\n",
            "Epoch 10, Loss: 4.144080638885498, Accuracy: 91.64631652832031, Val Loss: 0.5102395415306091, Val Accuracy: 84.04988861083984\n",
            "Epoch 11, Loss: 4.132211685180664, Accuracy: 91.87907409667969, Val Loss: 0.4962567090988159, Val Accuracy: 84.66089630126953\n",
            "Epoch 12, Loss: 4.115518093109131, Accuracy: 92.33885955810547, Val Loss: 0.4803164303302765, Val Accuracy: 85.2362060546875\n",
            "Epoch 13, Loss: 4.1099724769592285, Accuracy: 92.77278137207031, Val Loss: 0.46538296341896057, Val Accuracy: 85.75091552734375\n",
            "Epoch 14, Loss: 4.0967512130737305, Accuracy: 93.11186981201172, Val Loss: 0.45701736211776733, Val Accuracy: 86.09977722167969\n",
            "Epoch 15, Loss: 4.0840067863464355, Accuracy: 93.32740020751953, Val Loss: 0.44838947057724, Val Accuracy: 86.45805358886719\n",
            "Epoch 16, Loss: 4.080775737762451, Accuracy: 93.58889770507812, Val Loss: 0.44120365381240845, Val Accuracy: 86.77720642089844\n",
            "Epoch 17, Loss: 4.073441505432129, Accuracy: 93.79293060302734, Val Loss: 0.4361095726490021, Val Accuracy: 87.02281188964844\n",
            "Epoch 18, Loss: 4.065898895263672, Accuracy: 94.07453918457031, Val Loss: 0.4297139346599579, Val Accuracy: 87.2801742553711\n",
            "Epoch 19, Loss: 4.060459136962891, Accuracy: 94.41938018798828, Val Loss: 0.427969753742218, Val Accuracy: 87.43286895751953\n",
            "Epoch 20, Loss: 4.056811809539795, Accuracy: 94.3101806640625, Val Loss: 0.42257508635520935, Val Accuracy: 87.65872955322266\n",
            "Epoch 21, Loss: 4.043938636779785, Accuracy: 94.84180450439453, Val Loss: 0.419155091047287, Val Accuracy: 87.86956024169922\n",
            "Epoch 22, Loss: 4.050264835357666, Accuracy: 94.48834991455078, Val Loss: 0.4112352132797241, Val Accuracy: 88.090087890625\n",
            "Epoch 23, Loss: 4.036795616149902, Accuracy: 94.94525909423828, Val Loss: 0.40793922543525696, Val Accuracy: 88.25298309326172\n",
            "Epoch 24, Loss: 4.039724826812744, Accuracy: 94.88203430175781, Val Loss: 0.40458178520202637, Val Accuracy: 88.3947525024414\n",
            "Epoch 25, Loss: 4.0432209968566895, Accuracy: 94.80731964111328, Val Loss: 0.40288135409355164, Val Accuracy: 88.55238342285156\n",
            "Epoch 26, Loss: 4.031846046447754, Accuracy: 95.17801666259766, Val Loss: 0.40021777153015137, Val Accuracy: 88.71533203125\n",
            "Epoch 27, Loss: 4.026639461517334, Accuracy: 95.29871368408203, Val Loss: 0.3975495398044586, Val Accuracy: 88.86201477050781\n",
            "Epoch 28, Loss: 4.032007217407227, Accuracy: 95.29296875, Val Loss: 0.39450564980506897, Val Accuracy: 88.99254608154297\n",
            "Epoch 29, Loss: 4.025419235229492, Accuracy: 95.38780212402344, Val Loss: 0.3926815688610077, Val Accuracy: 89.10157012939453\n",
            "Epoch 30, Loss: 4.028209686279297, Accuracy: 95.39067077636719, Val Loss: 0.3913255035877228, Val Accuracy: 89.22222137451172\n",
            "Epoch 31, Loss: 4.020626068115234, Accuracy: 95.6320571899414, Val Loss: 0.39033567905426025, Val Accuracy: 89.30802154541016\n",
            "Epoch 32, Loss: 4.014484405517578, Accuracy: 95.76136779785156, Val Loss: 0.3872731924057007, Val Accuracy: 89.42318725585938\n",
            "Epoch 33, Loss: 4.017368316650391, Accuracy: 95.66654205322266, Val Loss: 0.3858664035797119, Val Accuracy: 89.51280975341797\n",
            "Epoch 34, Loss: 4.016921520233154, Accuracy: 95.80447387695312, Val Loss: 0.3842606842517853, Val Accuracy: 89.63785552978516\n",
            "Epoch 35, Loss: 4.008732318878174, Accuracy: 95.9251708984375, Val Loss: 0.38410571217536926, Val Accuracy: 89.72076416015625\n",
            "Epoch 36, Loss: 4.0077314376831055, Accuracy: 95.9050521850586, Val Loss: 0.383129358291626, Val Accuracy: 89.81922149658203\n",
            "Epoch 37, Loss: 4.001043796539307, Accuracy: 96.10620880126953, Val Loss: 0.38317638635635376, Val Accuracy: 89.90684509277344\n",
            "Epoch 38, Loss: 3.99979305267334, Accuracy: 96.17804718017578, Val Loss: 0.381289541721344, Val Accuracy: 89.98210144042969\n",
            "Epoch 39, Loss: 4.004269599914551, Accuracy: 96.22402954101562, Val Loss: 0.3795420527458191, Val Accuracy: 90.08430480957031\n",
            "Epoch 40, Loss: 4.009249210357666, Accuracy: 95.92803955078125, Val Loss: 0.377738893032074, Val Accuracy: 90.16553497314453\n",
            "Epoch 41, Loss: 3.9989960193634033, Accuracy: 96.13782501220703, Val Loss: 0.37660717964172363, Val Accuracy: 90.2300796508789\n",
            "Epoch 42, Loss: 3.998488426208496, Accuracy: 96.24701690673828, Val Loss: 0.37446171045303345, Val Accuracy: 90.32015991210938\n",
            "Epoch 43, Loss: 3.994213342666626, Accuracy: 96.33897399902344, Val Loss: 0.3731769323348999, Val Accuracy: 90.38654327392578\n",
            "Epoch 44, Loss: 3.9973042011260986, Accuracy: 96.29874420166016, Val Loss: 0.37194839119911194, Val Accuracy: 90.44629669189453\n",
            "Epoch 45, Loss: 3.985733985900879, Accuracy: 96.58323669433594, Val Loss: 0.37179648876190186, Val Accuracy: 90.5190200805664\n",
            "Epoch 46, Loss: 3.985265016555786, Accuracy: 96.63783264160156, Val Loss: 0.3726426959037781, Val Accuracy: 90.57329559326172\n",
            "Epoch 47, Loss: 3.987427234649658, Accuracy: 96.52864074707031, Val Loss: 0.37349554896354675, Val Accuracy: 90.58956909179688\n",
            "Epoch 48, Loss: 3.9969441890716553, Accuracy: 96.3619613647461, Val Loss: 0.3732099235057831, Val Accuracy: 90.64105987548828\n",
            "Epoch 49, Loss: 3.9897496700286865, Accuracy: 96.44242858886719, Val Loss: 0.373791366815567, Val Accuracy: 90.67471313476562\n",
            "Epoch 50, Loss: 3.986875534057617, Accuracy: 96.62921142578125, Val Loss: 0.37357860803604126, Val Accuracy: 90.72517395019531\n",
            "Epoch 51, Loss: 3.9940242767333984, Accuracy: 96.41656494140625, Val Loss: 0.3744417130947113, Val Accuracy: 90.77942657470703\n",
            "Epoch 52, Loss: 3.9812819957733154, Accuracy: 96.68093872070312, Val Loss: 0.37374258041381836, Val Accuracy: 90.83377075195312\n",
            "Epoch 53, Loss: 3.9790782928466797, Accuracy: 96.79588317871094, Val Loss: 0.3748836815357208, Val Accuracy: 90.87664794921875\n",
            "Epoch 54, Loss: 3.9866902828216553, Accuracy: 96.6838150024414, Val Loss: 0.3751820921897888, Val Accuracy: 90.91416931152344\n",
            "Epoch 55, Loss: 3.9757823944091797, Accuracy: 96.87059783935547, Val Loss: 0.3739320933818817, Val Accuracy: 90.96763610839844\n",
            "Epoch 56, Loss: 3.979168176651001, Accuracy: 96.81887817382812, Val Loss: 0.373488187789917, Val Accuracy: 91.01068878173828\n",
            "Epoch 57, Loss: 3.9758615493774414, Accuracy: 97.01141357421875, Val Loss: 0.37251535058021545, Val Accuracy: 91.0677490234375\n",
            "Epoch 58, Loss: 3.9978749752044678, Accuracy: 96.41656494140625, Val Loss: 0.37342530488967896, Val Accuracy: 91.09781646728516\n",
            "Epoch 59, Loss: 3.978059768676758, Accuracy: 96.78438568115234, Val Loss: 0.3739485442638397, Val Accuracy: 91.13839721679688\n",
            "Epoch 60, Loss: 3.9764440059661865, Accuracy: 96.87921905517578, Val Loss: 0.3742839992046356, Val Accuracy: 91.17346954345703\n",
            "Epoch 61, Loss: 3.9692633152008057, Accuracy: 97.06026458740234, Val Loss: 0.3739466369152069, Val Accuracy: 91.207763671875\n",
            "Epoch 62, Loss: 3.9719269275665283, Accuracy: 97.10623931884766, Val Loss: 0.3746291399002075, Val Accuracy: 91.2255859375\n",
            "Epoch 63, Loss: 3.974567174911499, Accuracy: 96.92520141601562, Val Loss: 0.37561553716659546, Val Accuracy: 91.25724792480469\n",
            "Epoch 64, Loss: 3.978205442428589, Accuracy: 96.75852966308594, Val Loss: 0.37564727663993835, Val Accuracy: 91.29145050048828\n",
            "Epoch 65, Loss: 3.974041700363159, Accuracy: 97.04302215576172, Val Loss: 0.3759823739528656, Val Accuracy: 91.32601165771484\n",
            "Epoch 66, Loss: 3.9715006351470947, Accuracy: 97.14359283447266, Val Loss: 0.37688955664634705, Val Accuracy: 91.34783172607422\n",
            "Epoch 67, Loss: 3.9708847999572754, Accuracy: 97.04589080810547, Val Loss: 0.3769625127315521, Val Accuracy: 91.39269256591797\n",
            "Epoch 68, Loss: 3.96893048286438, Accuracy: 97.13209533691406, Val Loss: 0.377170592546463, Val Accuracy: 91.42757415771484\n",
            "Epoch 69, Loss: 3.9630544185638428, Accuracy: 97.37061309814453, Val Loss: 0.37749332189559937, Val Accuracy: 91.45124816894531\n",
            "Epoch 70, Loss: 3.9647715091705322, Accuracy: 97.31314086914062, Val Loss: 0.378450483083725, Val Accuracy: 91.47327423095703\n",
            "Epoch 71, Loss: 3.975607395172119, Accuracy: 96.88209533691406, Val Loss: 0.3788435757160187, Val Accuracy: 91.49085235595703\n",
            "Epoch 72, Loss: 3.966212511062622, Accuracy: 97.38211059570312, Val Loss: 0.3787793219089508, Val Accuracy: 91.51580810546875\n",
            "Epoch 73, Loss: 3.967923402786255, Accuracy: 97.20106506347656, Val Loss: 0.37945327162742615, Val Accuracy: 91.54039764404297\n",
            "Epoch 74, Loss: 3.9701130390167236, Accuracy: 97.13209533691406, Val Loss: 0.37916862964630127, Val Accuracy: 91.57198333740234\n",
            "Epoch 75, Loss: 3.969561815261841, Accuracy: 97.1780776977539, Val Loss: 0.379070907831192, Val Accuracy: 91.59788513183594\n",
            "Epoch 76, Loss: 3.9623336791992188, Accuracy: 97.36773681640625, Val Loss: 0.3794079124927521, Val Accuracy: 91.62370300292969\n",
            "Epoch 77, Loss: 3.9623475074768066, Accuracy: 97.30164337158203, Val Loss: 0.37891334295272827, Val Accuracy: 91.6494369506836\n",
            "Epoch 78, Loss: 3.9619405269622803, Accuracy: 97.45394897460938, Val Loss: 0.3790796995162964, Val Accuracy: 91.66317749023438\n",
            "Epoch 79, Loss: 3.9683115482330322, Accuracy: 97.18095397949219, Val Loss: 0.37878715991973877, Val Accuracy: 91.68547058105469\n",
            "Epoch 80, Loss: 3.963434934616089, Accuracy: 97.39647674560547, Val Loss: 0.3788342773914337, Val Accuracy: 91.7086181640625\n",
            "Epoch 81, Loss: 3.9698431491851807, Accuracy: 97.21830749511719, Val Loss: 0.37878260016441345, Val Accuracy: 91.73875427246094\n",
            "Epoch 82, Loss: 3.9731359481811523, Accuracy: 97.0631332397461, Val Loss: 0.37952807545661926, Val Accuracy: 91.76345825195312\n",
            "Epoch 83, Loss: 3.964648485183716, Accuracy: 97.25279235839844, Val Loss: 0.3798348009586334, Val Accuracy: 91.78619384765625\n",
            "Epoch 84, Loss: 3.9569737911224365, Accuracy: 97.5200424194336, Val Loss: 0.3806571364402771, Val Accuracy: 91.80838775634766\n",
            "Epoch 85, Loss: 3.9550719261169434, Accuracy: 97.60625457763672, Val Loss: 0.3808306157588959, Val Accuracy: 91.83460235595703\n",
            "Epoch 86, Loss: 3.960637331008911, Accuracy: 97.44245147705078, Val Loss: 0.38070574402809143, Val Accuracy: 91.86019897460938\n",
            "Epoch 87, Loss: 3.956749439239502, Accuracy: 97.53440856933594, Val Loss: 0.38153159618377686, Val Accuracy: 91.88573455810547\n",
            "Epoch 88, Loss: 3.958087205886841, Accuracy: 97.4826889038086, Val Loss: 0.382492333650589, Val Accuracy: 91.89729309082031\n",
            "Epoch 89, Loss: 3.953282594680786, Accuracy: 97.64360809326172, Val Loss: 0.3828064501285553, Val Accuracy: 91.91876983642578\n",
            "Epoch 90, Loss: 3.958306312561035, Accuracy: 97.4826889038086, Val Loss: 0.38393959403038025, Val Accuracy: 91.9251708984375\n",
            "Epoch 91, Loss: 3.952211380004883, Accuracy: 97.65510559082031, Val Loss: 0.3835230767726898, Val Accuracy: 91.95484161376953\n",
            "Epoch 92, Loss: 3.9695851802825928, Accuracy: 97.15221405029297, Val Loss: 0.3836018741130829, Val Accuracy: 91.97944641113281\n",
            "Epoch 93, Loss: 3.9595367908477783, Accuracy: 97.54302978515625, Val Loss: 0.3837537467479706, Val Accuracy: 91.99620056152344\n",
            "Epoch 94, Loss: 3.9474828243255615, Accuracy: 97.6953353881836, Val Loss: 0.3848821520805359, Val Accuracy: 92.00438690185547\n",
            "Epoch 95, Loss: 3.9567108154296875, Accuracy: 97.61487579345703, Val Loss: 0.38566792011260986, Val Accuracy: 92.01480102539062\n",
            "Epoch 96, Loss: 3.955904006958008, Accuracy: 97.45394897460938, Val Loss: 0.3861309885978699, Val Accuracy: 92.03704071044922\n",
            "Epoch 97, Loss: 3.950998544692993, Accuracy: 97.61487579345703, Val Loss: 0.3869423270225525, Val Accuracy: 92.04946899414062\n",
            "Epoch 98, Loss: 3.9516942501068115, Accuracy: 97.6953353881836, Val Loss: 0.3875426650047302, Val Accuracy: 92.0699691772461\n",
            "Epoch 99, Loss: 3.9523351192474365, Accuracy: 97.72119903564453, Val Loss: 0.38823434710502625, Val Accuracy: 92.08296203613281\n",
            "Epoch 100, Loss: 3.9572582244873047, Accuracy: 97.5401611328125, Val Loss: 0.3881080150604248, Val Accuracy: 92.09500885009766\n",
            "Epoch 101, Loss: 3.9491872787475586, Accuracy: 97.88499450683594, Val Loss: 0.3889983296394348, Val Accuracy: 92.1086196899414\n",
            "Epoch 102, Loss: 3.9511942863464355, Accuracy: 97.66085052490234, Val Loss: 0.3894355893135071, Val Accuracy: 92.12773895263672\n",
            "Epoch 103, Loss: 3.949801206588745, Accuracy: 97.78154754638672, Val Loss: 0.3894854485988617, Val Accuracy: 92.15001678466797\n",
            "Epoch 104, Loss: 3.951673984527588, Accuracy: 97.80453491210938, Val Loss: 0.39011380076408386, Val Accuracy: 92.15528106689453\n",
            "Epoch 105, Loss: 3.949847459793091, Accuracy: 97.62349700927734, Val Loss: 0.3908454477787018, Val Accuracy: 92.16218566894531\n",
            "Epoch 106, Loss: 3.948641061782837, Accuracy: 97.74419403076172, Val Loss: 0.3914717435836792, Val Accuracy: 92.17772674560547\n",
            "Epoch 107, Loss: 3.950544834136963, Accuracy: 97.72119903564453, Val Loss: 0.39242684841156006, Val Accuracy: 92.1959457397461\n",
            "Epoch 108, Loss: 3.9562504291534424, Accuracy: 97.66659545898438, Val Loss: 0.3928322494029999, Val Accuracy: 92.21004486083984\n",
            "Epoch 109, Loss: 3.949655532836914, Accuracy: 97.81603240966797, Val Loss: 0.3931560516357422, Val Accuracy: 92.22596740722656\n",
            "Epoch 110, Loss: 3.9502756595611572, Accuracy: 97.8102798461914, Val Loss: 0.3928241729736328, Val Accuracy: 92.24056243896484\n",
            "Epoch 111, Loss: 3.9473445415496826, Accuracy: 97.8102798461914, Val Loss: 0.393108993768692, Val Accuracy: 92.24959564208984\n",
            "Epoch 112, Loss: 3.956143617630005, Accuracy: 97.6579818725586, Val Loss: 0.3936586380004883, Val Accuracy: 92.25745391845703\n",
            "Epoch 113, Loss: 3.9488861560821533, Accuracy: 97.8016586303711, Val Loss: 0.39435577392578125, Val Accuracy: 92.26657104492188\n",
            "Epoch 114, Loss: 3.9402456283569336, Accuracy: 98.00281524658203, Val Loss: 0.3950275480747223, Val Accuracy: 92.26737976074219\n",
            "Epoch 115, Loss: 3.9533207416534424, Accuracy: 97.6349868774414, Val Loss: 0.39641356468200684, Val Accuracy: 92.26934814453125\n",
            "Epoch 116, Loss: 3.9499318599700928, Accuracy: 97.8102798461914, Val Loss: 0.3969135880470276, Val Accuracy: 92.27481079101562\n",
            "Epoch 117, Loss: 3.9461023807525635, Accuracy: 97.9079818725586, Val Loss: 0.39747607707977295, Val Accuracy: 92.2793960571289\n",
            "Epoch 118, Loss: 3.937941074371338, Accuracy: 98.10914611816406, Val Loss: 0.3972226679325104, Val Accuracy: 92.2956314086914\n",
            "Epoch 119, Loss: 3.9450135231018066, Accuracy: 97.90511322021484, Val Loss: 0.3971734642982483, Val Accuracy: 92.31082916259766\n",
            "Epoch 120, Loss: 3.9506750106811523, Accuracy: 97.79304504394531, Val Loss: 0.39658600091934204, Val Accuracy: 92.32218170166016\n",
            "Epoch 121, Loss: 3.9373645782470703, Accuracy: 98.04017639160156, Val Loss: 0.3969150483608246, Val Accuracy: 92.33035278320312\n",
            "Epoch 122, Loss: 3.9503982067108154, Accuracy: 97.81603240966797, Val Loss: 0.39893004298210144, Val Accuracy: 92.308837890625\n",
            "Epoch 123, Loss: 3.940401792526245, Accuracy: 97.96833038330078, Val Loss: 0.3994426131248474, Val Accuracy: 92.31790161132812\n",
            "Epoch 124, Loss: 3.9404468536376953, Accuracy: 98.1033935546875, Val Loss: 0.3996967673301697, Val Accuracy: 92.33029174804688\n",
            "Epoch 125, Loss: 3.9547581672668457, Accuracy: 97.79878997802734, Val Loss: 0.4003240168094635, Val Accuracy: 92.32942962646484\n",
            "Epoch 126, Loss: 3.9472408294677734, Accuracy: 97.82465362548828, Val Loss: 0.40079426765441895, Val Accuracy: 92.33794403076172\n",
            "Epoch 127, Loss: 3.9459784030914307, Accuracy: 97.84764099121094, Val Loss: 0.40126630663871765, Val Accuracy: 92.34684753417969\n",
            "Epoch 128, Loss: 3.936405897140503, Accuracy: 98.1522445678711, Val Loss: 0.40207308530807495, Val Accuracy: 92.35136413574219\n",
            "Epoch 129, Loss: 3.941645383834839, Accuracy: 98.0832748413086, Val Loss: 0.40220966935157776, Val Accuracy: 92.35687255859375\n",
            "Epoch 130, Loss: 3.9351322650909424, Accuracy: 98.1608657836914, Val Loss: 0.40232136845588684, Val Accuracy: 92.36211395263672\n",
            "Epoch 131, Loss: 3.9390430450439453, Accuracy: 98.1033935546875, Val Loss: 0.4034176170825958, Val Accuracy: 92.36849212646484\n",
            "Epoch 132, Loss: 3.948092222213745, Accuracy: 97.95108795166016, Val Loss: 0.4036010503768921, Val Accuracy: 92.37373352050781\n",
            "Epoch 133, Loss: 3.943246841430664, Accuracy: 97.98269653320312, Val Loss: 0.4034937620162964, Val Accuracy: 92.38487243652344\n",
            "Epoch 134, Loss: 3.9432928562164307, Accuracy: 97.94247436523438, Val Loss: 0.4036855399608612, Val Accuracy: 92.38162994384766\n",
            "Epoch 135, Loss: 3.940904140472412, Accuracy: 98.01431274414062, Val Loss: 0.403775155544281, Val Accuracy: 92.39288330078125\n",
            "Epoch 136, Loss: 3.939980983734131, Accuracy: 98.07465362548828, Val Loss: 0.4039207696914673, Val Accuracy: 92.39579772949219\n",
            "Epoch 137, Loss: 3.939748525619507, Accuracy: 98.06890869140625, Val Loss: 0.40483129024505615, Val Accuracy: 92.40032196044922\n",
            "Epoch 138, Loss: 3.943948745727539, Accuracy: 97.90511322021484, Val Loss: 0.4055190682411194, Val Accuracy: 92.41151428222656\n",
            "Epoch 139, Loss: 3.940932273864746, Accuracy: 98.0660400390625, Val Loss: 0.4059772193431854, Val Accuracy: 92.41960906982422\n",
            "Epoch 140, Loss: 3.9454264640808105, Accuracy: 98.02293395996094, Val Loss: 0.4061610698699951, Val Accuracy: 92.42743682861328\n",
            "Epoch 141, Loss: 3.936060667037964, Accuracy: 98.23271179199219, Val Loss: 0.40624040365219116, Val Accuracy: 92.43965148925781\n",
            "Epoch 142, Loss: 3.9359493255615234, Accuracy: 98.08615112304688, Val Loss: 0.4068184792995453, Val Accuracy: 92.44131469726562\n",
            "Epoch 143, Loss: 3.9405925273895264, Accuracy: 98.12638092041016, Val Loss: 0.40740376710891724, Val Accuracy: 92.44596862792969\n",
            "Epoch 144, Loss: 3.9427332878112793, Accuracy: 97.93097686767578, Val Loss: 0.40775761008262634, Val Accuracy: 92.45323181152344\n",
            "Epoch 145, Loss: 3.937093496322632, Accuracy: 98.18672943115234, Val Loss: 0.4080895185470581, Val Accuracy: 92.45930480957031\n",
            "Epoch 146, Loss: 3.9350833892822266, Accuracy: 98.19247436523438, Val Loss: 0.4090995788574219, Val Accuracy: 92.4596939086914\n",
            "Epoch 147, Loss: 3.938589572906494, Accuracy: 98.17523193359375, Val Loss: 0.40994197130203247, Val Accuracy: 92.46208953857422\n",
            "Epoch 148, Loss: 3.9362716674804688, Accuracy: 98.0660400390625, Val Loss: 0.4108113646507263, Val Accuracy: 92.4716567993164\n",
            "Epoch 149, Loss: 3.9327523708343506, Accuracy: 98.14362335205078, Val Loss: 0.41098538041114807, Val Accuracy: 92.48367309570312\n",
            "Epoch 150, Loss: 3.938525438308716, Accuracy: 98.0660400390625, Val Loss: 0.411672979593277, Val Accuracy: 92.49417877197266\n",
            "Epoch 151, Loss: 3.939199209213257, Accuracy: 98.1235122680664, Val Loss: 0.41177457571029663, Val Accuracy: 92.50093841552734\n",
            "Epoch 152, Loss: 3.9338622093200684, Accuracy: 98.23271179199219, Val Loss: 0.41254422068595886, Val Accuracy: 92.50357818603516\n",
            "Epoch 153, Loss: 3.9387221336364746, Accuracy: 98.2671890258789, Val Loss: 0.41248011589050293, Val Accuracy: 92.51018524169922\n",
            "Epoch 154, Loss: 3.9406261444091797, Accuracy: 98.04879760742188, Val Loss: 0.41258275508880615, Val Accuracy: 92.51509094238281\n",
            "Epoch 155, Loss: 3.937962293624878, Accuracy: 98.13787841796875, Val Loss: 0.4122976064682007, Val Accuracy: 92.5272445678711\n",
            "Epoch 156, Loss: 3.937952756881714, Accuracy: 98.14649963378906, Val Loss: 0.4123189151287079, Val Accuracy: 92.53517150878906\n",
            "Epoch 157, Loss: 3.93520450592041, Accuracy: 98.14075469970703, Val Loss: 0.413133442401886, Val Accuracy: 92.5419921875\n",
            "Epoch 158, Loss: 3.9357492923736572, Accuracy: 98.17236328125, Val Loss: 0.41461074352264404, Val Accuracy: 92.54241180419922\n",
            "Epoch 159, Loss: 3.9414753913879395, Accuracy: 98.07752990722656, Val Loss: 0.4155180752277374, Val Accuracy: 92.54110717773438\n",
            "Epoch 160, Loss: 3.9376230239868164, Accuracy: 98.13787841796875, Val Loss: 0.4157182276248932, Val Accuracy: 92.54931640625\n",
            "Epoch 161, Loss: 3.9349420070648193, Accuracy: 98.2413330078125, Val Loss: 0.415977418422699, Val Accuracy: 92.55799102783203\n",
            "Epoch 162, Loss: 3.939936399459839, Accuracy: 98.1522445678711, Val Loss: 0.4158244729042053, Val Accuracy: 92.56739807128906\n",
            "Epoch 163, Loss: 3.9401886463165283, Accuracy: 98.0832748413086, Val Loss: 0.4159085154533386, Val Accuracy: 92.57140350341797\n",
            "Epoch 164, Loss: 3.931317090988159, Accuracy: 98.31029510498047, Val Loss: 0.41582977771759033, Val Accuracy: 92.58032989501953\n",
            "Epoch 165, Loss: 3.9353201389312744, Accuracy: 98.20684814453125, Val Loss: 0.41550058126449585, Val Accuracy: 92.59135437011719\n",
            "Epoch 166, Loss: 3.9305572509765625, Accuracy: 98.34477996826172, Val Loss: 0.41543304920196533, Val Accuracy: 92.6015625\n",
            "Epoch 167, Loss: 3.9377217292785645, Accuracy: 98.09764862060547, Val Loss: 0.4154621362686157, Val Accuracy: 92.61164855957031\n",
            "Epoch 168, Loss: 3.929203748703003, Accuracy: 98.3361587524414, Val Loss: 0.41556516289711, Val Accuracy: 92.6228256225586\n",
            "Epoch 169, Loss: 3.9301986694335938, Accuracy: 98.37064361572266, Val Loss: 0.41554170846939087, Val Accuracy: 92.63387298583984\n",
            "Epoch 170, Loss: 3.941478967666626, Accuracy: 98.14362335205078, Val Loss: 0.4161853790283203, Val Accuracy: 92.6405258178711\n",
            "Epoch 171, Loss: 3.930156946182251, Accuracy: 98.38214111328125, Val Loss: 0.4168945252895355, Val Accuracy: 92.64762115478516\n",
            "Epoch 172, Loss: 3.9352126121520996, Accuracy: 98.23271179199219, Val Loss: 0.41717255115509033, Val Accuracy: 92.65872955322266\n",
            "Epoch 173, Loss: 3.9331867694854736, Accuracy: 98.37926483154297, Val Loss: 0.4176359176635742, Val Accuracy: 92.66695404052734\n",
            "Epoch 174, Loss: 3.937675952911377, Accuracy: 98.18960571289062, Val Loss: 0.41795814037323, Val Accuracy: 92.67312622070312\n",
            "Epoch 175, Loss: 3.9331135749816895, Accuracy: 98.33041381835938, Val Loss: 0.4186389148235321, Val Accuracy: 92.67742156982422\n",
            "Epoch 176, Loss: 3.9317612648010254, Accuracy: 98.24994659423828, Val Loss: 0.4187067747116089, Val Accuracy: 92.68759155273438\n",
            "Epoch 177, Loss: 3.941682815551758, Accuracy: 98.12638092041016, Val Loss: 0.41890713572502136, Val Accuracy: 92.68944549560547\n",
            "Epoch 178, Loss: 3.9297220706939697, Accuracy: 98.3275375366211, Val Loss: 0.41938528418540955, Val Accuracy: 92.69701385498047\n",
            "Epoch 179, Loss: 3.9314463138580322, Accuracy: 98.30742645263672, Val Loss: 0.41991937160491943, Val Accuracy: 92.70462036132812\n",
            "Epoch 180, Loss: 3.942117929458618, Accuracy: 98.135009765625, Val Loss: 0.4207218289375305, Val Accuracy: 92.70999908447266\n",
            "Epoch 181, Loss: 3.937655210494995, Accuracy: 98.20684814453125, Val Loss: 0.42143476009368896, Val Accuracy: 92.71582794189453\n",
            "Epoch 182, Loss: 3.9336044788360596, Accuracy: 98.24707794189453, Val Loss: 0.4219958782196045, Val Accuracy: 92.72370147705078\n",
            "Epoch 183, Loss: 3.9384546279907227, Accuracy: 98.18097686767578, Val Loss: 0.423246294260025, Val Accuracy: 92.72381591796875\n",
            "Epoch 184, Loss: 3.933270215988159, Accuracy: 98.27006530761719, Val Loss: 0.42344748973846436, Val Accuracy: 92.73107147216797\n",
            "Epoch 185, Loss: 3.931317090988159, Accuracy: 98.29592895507812, Val Loss: 0.42351797223091125, Val Accuracy: 92.73616790771484\n",
            "Epoch 186, Loss: 3.9378392696380615, Accuracy: 98.22695922851562, Val Loss: 0.4240743815898895, Val Accuracy: 92.73851776123047\n",
            "Epoch 187, Loss: 3.934065818786621, Accuracy: 98.25569915771484, Val Loss: 0.42447930574417114, Val Accuracy: 92.7455825805664\n",
            "Epoch 188, Loss: 3.9405503273010254, Accuracy: 98.06029510498047, Val Loss: 0.42436203360557556, Val Accuracy: 92.75413513183594\n",
            "Epoch 189, Loss: 3.931212902069092, Accuracy: 98.30742645263672, Val Loss: 0.4242129921913147, Val Accuracy: 92.76020050048828\n",
            "Epoch 190, Loss: 3.930997848510742, Accuracy: 98.4051284790039, Val Loss: 0.42436254024505615, Val Accuracy: 92.7689437866211\n",
            "Epoch 191, Loss: 3.9333324432373047, Accuracy: 98.2413330078125, Val Loss: 0.42493829131126404, Val Accuracy: 92.77546691894531\n",
            "Epoch 192, Loss: 3.9363865852355957, Accuracy: 98.24994659423828, Val Loss: 0.42507579922676086, Val Accuracy: 92.78321075439453\n",
            "Epoch 193, Loss: 3.9237213134765625, Accuracy: 98.55168151855469, Val Loss: 0.4253130257129669, Val Accuracy: 92.787353515625\n",
            "Epoch 194, Loss: 3.9265146255493164, Accuracy: 98.4051284790039, Val Loss: 0.4256221055984497, Val Accuracy: 92.79460906982422\n",
            "Epoch 195, Loss: 3.9262022972106934, Accuracy: 98.51432800292969, Val Loss: 0.4260801672935486, Val Accuracy: 92.79993438720703\n",
            "Epoch 196, Loss: 3.9270451068878174, Accuracy: 98.42236328125, Val Loss: 0.4265875816345215, Val Accuracy: 92.80542755126953\n",
            "Epoch 197, Loss: 3.924982786178589, Accuracy: 98.47984313964844, Val Loss: 0.4267938435077667, Val Accuracy: 92.81086730957031\n",
            "Epoch 198, Loss: 3.930989980697632, Accuracy: 98.29592895507812, Val Loss: 0.4270823299884796, Val Accuracy: 92.81591033935547\n",
            "Epoch 199, Loss: 3.925185203552246, Accuracy: 98.49707794189453, Val Loss: 0.42744436860084534, Val Accuracy: 92.8206787109375\n",
            "Epoch 200, Loss: 3.9204630851745605, Accuracy: 98.61203002929688, Val Loss: 0.4276966452598572, Val Accuracy: 92.82154083251953\n",
            "Epoch 201, Loss: 3.9239354133605957, Accuracy: 98.51719665527344, Val Loss: 0.42809420824050903, Val Accuracy: 92.82386016845703\n",
            "Epoch 202, Loss: 3.930781602859497, Accuracy: 98.37064361572266, Val Loss: 0.42888855934143066, Val Accuracy: 92.82391357421875\n",
            "Epoch 203, Loss: 3.9225499629974365, Accuracy: 98.55743408203125, Val Loss: 0.42915529012680054, Val Accuracy: 92.83078002929688\n",
            "Epoch 204, Loss: 3.9280781745910645, Accuracy: 98.43961334228516, Val Loss: 0.4294131398200989, Val Accuracy: 92.83468627929688\n",
            "Epoch 205, Loss: 3.926816701889038, Accuracy: 98.49420928955078, Val Loss: 0.4294354021549225, Val Accuracy: 92.83822631835938\n",
            "Epoch 206, Loss: 3.925527334213257, Accuracy: 98.48846435546875, Val Loss: 0.4297798275947571, Val Accuracy: 92.8433837890625\n",
            "Epoch 207, Loss: 3.924349546432495, Accuracy: 98.5028305053711, Val Loss: 0.4301164448261261, Val Accuracy: 92.8491439819336\n",
            "Epoch 208, Loss: 3.9279353618621826, Accuracy: 98.37064361572266, Val Loss: 0.4312937259674072, Val Accuracy: 92.85082244873047\n",
            "Epoch 209, Loss: 3.9263360500335693, Accuracy: 98.4051284790039, Val Loss: 0.43172189593315125, Val Accuracy: 92.8541030883789\n",
            "Epoch 210, Loss: 3.924959421157837, Accuracy: 98.47696685791016, Val Loss: 0.4322015047073364, Val Accuracy: 92.8587646484375\n",
            "Epoch 211, Loss: 3.9211268424987793, Accuracy: 98.64076232910156, Val Loss: 0.4326167106628418, Val Accuracy: 92.8631591796875\n",
            "Epoch 212, Loss: 3.92303204536438, Accuracy: 98.57179260253906, Val Loss: 0.4331466555595398, Val Accuracy: 92.86644744873047\n",
            "Epoch 213, Loss: 3.924704074859619, Accuracy: 98.42811584472656, Val Loss: 0.43359634280204773, Val Accuracy: 92.8717269897461\n",
            "Epoch 214, Loss: 3.926988124847412, Accuracy: 98.41087341308594, Val Loss: 0.4338360130786896, Val Accuracy: 92.87653350830078\n",
            "Epoch 215, Loss: 3.9310176372528076, Accuracy: 98.31891632080078, Val Loss: 0.4342460334300995, Val Accuracy: 92.87950134277344\n",
            "Epoch 216, Loss: 3.9288909435272217, Accuracy: 98.37638854980469, Val Loss: 0.4345957934856415, Val Accuracy: 92.88674926757812\n",
            "Epoch 217, Loss: 3.9378483295440674, Accuracy: 98.24707794189453, Val Loss: 0.434715211391449, Val Accuracy: 92.89246368408203\n",
            "Epoch 218, Loss: 3.9297714233398438, Accuracy: 98.46834564208984, Val Loss: 0.4353457987308502, Val Accuracy: 92.89260864257812\n",
            "Epoch 219, Loss: 3.935231924057007, Accuracy: 98.37926483154297, Val Loss: 0.43586915731430054, Val Accuracy: 92.8959732055664\n",
            "Epoch 220, Loss: 3.9338791370391846, Accuracy: 98.21546936035156, Val Loss: 0.43609490990638733, Val Accuracy: 92.90331268310547\n",
            "Epoch 221, Loss: 3.9271793365478516, Accuracy: 98.46834564208984, Val Loss: 0.4365956783294678, Val Accuracy: 92.90505981445312\n",
            "Epoch 222, Loss: 3.9325296878814697, Accuracy: 98.33041381835938, Val Loss: 0.4364069104194641, Val Accuracy: 92.91322326660156\n",
            "Epoch 223, Loss: 3.9243643283843994, Accuracy: 98.41087341308594, Val Loss: 0.4366694688796997, Val Accuracy: 92.917236328125\n",
            "Epoch 224, Loss: 3.9202442169189453, Accuracy: 98.65225982666016, Val Loss: 0.4372269809246063, Val Accuracy: 92.916259765625\n",
            "Epoch 225, Loss: 3.920877695083618, Accuracy: 98.64076232910156, Val Loss: 0.43698251247406006, Val Accuracy: 92.92456817626953\n",
            "Epoch 226, Loss: 3.9222590923309326, Accuracy: 98.55743408203125, Val Loss: 0.4369441270828247, Val Accuracy: 92.92988586425781\n",
            "Epoch 227, Loss: 3.9295098781585693, Accuracy: 98.44535827636719, Val Loss: 0.43707993626594543, Val Accuracy: 92.93705749511719\n",
            "Epoch 228, Loss: 3.921297311782837, Accuracy: 98.52582550048828, Val Loss: 0.43745890259742737, Val Accuracy: 92.94197845458984\n",
            "Epoch 229, Loss: 3.92529559135437, Accuracy: 98.4913330078125, Val Loss: 0.43761929869651794, Val Accuracy: 92.94418334960938\n",
            "Epoch 230, Loss: 3.9292445182800293, Accuracy: 98.47122192382812, Val Loss: 0.4375813901424408, Val Accuracy: 92.95050811767578\n",
            "Epoch 231, Loss: 3.9288671016693115, Accuracy: 98.4913330078125, Val Loss: 0.4372663199901581, Val Accuracy: 92.95697021484375\n",
            "Epoch 232, Loss: 3.9215872287750244, Accuracy: 98.60628509521484, Val Loss: 0.4374704957008362, Val Accuracy: 92.96025848388672\n",
            "Epoch 233, Loss: 3.9234695434570312, Accuracy: 98.51432800292969, Val Loss: 0.4375462830066681, Val Accuracy: 92.9669189453125\n",
            "Epoch 234, Loss: 3.9216599464416504, Accuracy: 98.56892395019531, Val Loss: 0.43796271085739136, Val Accuracy: 92.97372436523438\n",
            "Epoch 235, Loss: 3.9248523712158203, Accuracy: 98.52869415283203, Val Loss: 0.4383206367492676, Val Accuracy: 92.97525024414062\n",
            "Epoch 236, Loss: 3.921765089035034, Accuracy: 98.52582550048828, Val Loss: 0.4384431540966034, Val Accuracy: 92.98118591308594\n",
            "Epoch 237, Loss: 3.920196056365967, Accuracy: 98.65513610839844, Val Loss: 0.43860605359077454, Val Accuracy: 92.98688507080078\n",
            "Epoch 238, Loss: 3.926823377609253, Accuracy: 98.45685577392578, Val Loss: 0.4389871656894684, Val Accuracy: 92.99015045166016\n",
            "Epoch 239, Loss: 3.920255661010742, Accuracy: 98.58616638183594, Val Loss: 0.43952736258506775, Val Accuracy: 92.99158477783203\n",
            "Epoch 240, Loss: 3.921917200088501, Accuracy: 98.65513610839844, Val Loss: 0.43973883986473083, Val Accuracy: 92.99461364746094\n",
            "Epoch 241, Loss: 3.923880100250244, Accuracy: 98.58903503417969, Val Loss: 0.43996477127075195, Val Accuracy: 93.0003433227539\n",
            "Epoch 242, Loss: 3.9218292236328125, Accuracy: 98.57754516601562, Val Loss: 0.43988922238349915, Val Accuracy: 93.00715637207031\n",
            "Epoch 243, Loss: 3.931922435760498, Accuracy: 98.36202239990234, Val Loss: 0.4401540458202362, Val Accuracy: 93.00859832763672\n",
            "Epoch 244, Loss: 3.921402931213379, Accuracy: 98.59766387939453, Val Loss: 0.4404313266277313, Val Accuracy: 93.0120620727539\n",
            "Epoch 245, Loss: 3.9232046604156494, Accuracy: 98.50857543945312, Val Loss: 0.44075146317481995, Val Accuracy: 93.01559448242188\n",
            "Epoch 246, Loss: 3.9290242195129395, Accuracy: 98.3160400390625, Val Loss: 0.44085776805877686, Val Accuracy: 93.01901245117188\n",
            "Epoch 247, Loss: 3.927050828933716, Accuracy: 98.4338607788086, Val Loss: 0.4411780834197998, Val Accuracy: 93.02359008789062\n",
            "Epoch 248, Loss: 3.924551010131836, Accuracy: 98.59766387939453, Val Loss: 0.4415956139564514, Val Accuracy: 93.02556610107422\n",
            "Epoch 249, Loss: 3.930391550064087, Accuracy: 98.385009765625, Val Loss: 0.44227686524391174, Val Accuracy: 93.02425384521484\n",
            "Epoch 250, Loss: 3.921984910964966, Accuracy: 98.59478759765625, Val Loss: 0.44249141216278076, Val Accuracy: 93.0271224975586\n",
            "Epoch 251, Loss: 3.9307236671447754, Accuracy: 98.45685577392578, Val Loss: 0.4429328143596649, Val Accuracy: 93.02770233154297\n",
            "Epoch 252, Loss: 3.9207098484039307, Accuracy: 98.57467651367188, Val Loss: 0.4429960250854492, Val Accuracy: 93.03026580810547\n",
            "Epoch 253, Loss: 3.932015895843506, Accuracy: 98.36776733398438, Val Loss: 0.44389617443084717, Val Accuracy: 93.02474975585938\n",
            "Epoch 254, Loss: 3.923992395401001, Accuracy: 98.57179260253906, Val Loss: 0.4440695643424988, Val Accuracy: 93.02676391601562\n",
            "Epoch 255, Loss: 3.923543691635132, Accuracy: 98.55168151855469, Val Loss: 0.44476640224456787, Val Accuracy: 93.0251235961914\n",
            "Epoch 256, Loss: 3.927838087081909, Accuracy: 98.50857543945312, Val Loss: 0.44467416405677795, Val Accuracy: 93.03057861328125\n",
            "Epoch 257, Loss: 3.9233717918395996, Accuracy: 98.55743408203125, Val Loss: 0.44491058588027954, Val Accuracy: 93.03466796875\n",
            "Epoch 258, Loss: 3.925076723098755, Accuracy: 98.55455780029297, Val Loss: 0.4453219771385193, Val Accuracy: 93.0369644165039\n",
            "Epoch 259, Loss: 3.9285318851470947, Accuracy: 98.53731536865234, Val Loss: 0.4457060396671295, Val Accuracy: 93.03863525390625\n",
            "Epoch 260, Loss: 3.926957130432129, Accuracy: 98.47696685791016, Val Loss: 0.4461958408355713, Val Accuracy: 93.04046630859375\n",
            "Epoch 261, Loss: 3.920574426651001, Accuracy: 98.67237854003906, Val Loss: 0.44679132103919983, Val Accuracy: 93.04263305664062\n",
            "Epoch 262, Loss: 3.920306444168091, Accuracy: 98.66950225830078, Val Loss: 0.4471955895423889, Val Accuracy: 93.04530334472656\n",
            "Epoch 263, Loss: 3.9232447147369385, Accuracy: 98.56604766845703, Val Loss: 0.44745853543281555, Val Accuracy: 93.04924011230469\n",
            "Epoch 264, Loss: 3.923311233520508, Accuracy: 98.55743408203125, Val Loss: 0.4479188323020935, Val Accuracy: 93.05392456054688\n",
            "Epoch 265, Loss: 3.922222375869751, Accuracy: 98.59766387939453, Val Loss: 0.4482254683971405, Val Accuracy: 93.05763244628906\n",
            "Epoch 266, Loss: 3.9230403900146484, Accuracy: 98.59478759765625, Val Loss: 0.4484759271144867, Val Accuracy: 93.05926513671875\n",
            "Epoch 267, Loss: 3.923236608505249, Accuracy: 98.58329010009766, Val Loss: 0.44868093729019165, Val Accuracy: 93.06343078613281\n",
            "Epoch 268, Loss: 3.924870252609253, Accuracy: 98.560302734375, Val Loss: 0.44901156425476074, Val Accuracy: 93.06739807128906\n",
            "Epoch 269, Loss: 3.9201462268829346, Accuracy: 98.6781234741211, Val Loss: 0.4492117464542389, Val Accuracy: 93.072265625\n",
            "Epoch 270, Loss: 3.922698497772217, Accuracy: 98.64076232910156, Val Loss: 0.449861615896225, Val Accuracy: 93.07197570800781\n",
            "Epoch 271, Loss: 3.9237024784088135, Accuracy: 98.5804214477539, Val Loss: 0.45043158531188965, Val Accuracy: 93.0728530883789\n",
            "Epoch 272, Loss: 3.92128849029541, Accuracy: 98.58903503417969, Val Loss: 0.45066481828689575, Val Accuracy: 93.07681274414062\n",
            "Epoch 273, Loss: 3.9220032691955566, Accuracy: 98.6091537475586, Val Loss: 0.4510747194290161, Val Accuracy: 93.0806655883789\n",
            "Epoch 274, Loss: 3.919513463973999, Accuracy: 98.74134063720703, Val Loss: 0.4511486291885376, Val Accuracy: 93.08688354492188\n",
            "Epoch 275, Loss: 3.918260097503662, Accuracy: 98.72122955322266, Val Loss: 0.4515458643436432, Val Accuracy: 93.08942413330078\n",
            "Epoch 276, Loss: 3.9164724349975586, Accuracy: 98.7470932006836, Val Loss: 0.45195937156677246, Val Accuracy: 93.09334564208984\n",
            "Epoch 277, Loss: 3.9240992069244385, Accuracy: 98.55743408203125, Val Loss: 0.4527134895324707, Val Accuracy: 93.09650421142578\n",
            "Epoch 278, Loss: 3.9190216064453125, Accuracy: 98.6177749633789, Val Loss: 0.45311716198921204, Val Accuracy: 93.10037231445312\n",
            "Epoch 279, Loss: 3.9354100227355957, Accuracy: 98.2901840209961, Val Loss: 0.45313793420791626, Val Accuracy: 93.10397338867188\n",
            "Epoch 280, Loss: 3.9247288703918457, Accuracy: 98.55455780029297, Val Loss: 0.4532829225063324, Val Accuracy: 93.10665893554688\n",
            "Epoch 281, Loss: 3.924666404724121, Accuracy: 98.53731536865234, Val Loss: 0.45351287722587585, Val Accuracy: 93.11157989501953\n",
            "Epoch 282, Loss: 3.9281747341156006, Accuracy: 98.53731536865234, Val Loss: 0.45370006561279297, Val Accuracy: 93.11454010009766\n",
            "Epoch 283, Loss: 3.9285833835601807, Accuracy: 98.3965072631836, Val Loss: 0.4537949860095978, Val Accuracy: 93.11779022216797\n",
            "Epoch 284, Loss: 3.9192800521850586, Accuracy: 98.68961334228516, Val Loss: 0.4539133906364441, Val Accuracy: 93.12023162841797\n",
            "Epoch 285, Loss: 3.921968698501587, Accuracy: 98.63501739501953, Val Loss: 0.45423823595046997, Val Accuracy: 93.12574768066406\n",
            "Epoch 286, Loss: 3.923781394958496, Accuracy: 98.60054016113281, Val Loss: 0.4542347192764282, Val Accuracy: 93.12813568115234\n",
            "Epoch 287, Loss: 3.91879940032959, Accuracy: 98.6781234741211, Val Loss: 0.45430561900138855, Val Accuracy: 93.13146209716797\n",
            "Epoch 288, Loss: 3.918464183807373, Accuracy: 98.71260833740234, Val Loss: 0.4545067846775055, Val Accuracy: 93.1329574584961\n",
            "Epoch 289, Loss: 3.914794445037842, Accuracy: 98.83042907714844, Val Loss: 0.4546511769294739, Val Accuracy: 93.13677978515625\n",
            "Epoch 290, Loss: 3.924299716949463, Accuracy: 98.56892395019531, Val Loss: 0.4548366069793701, Val Accuracy: 93.13910675048828\n",
            "Epoch 291, Loss: 3.919577121734619, Accuracy: 98.58903503417969, Val Loss: 0.45528221130371094, Val Accuracy: 93.14039611816406\n",
            "Epoch 292, Loss: 3.918034791946411, Accuracy: 98.68961334228516, Val Loss: 0.45555463433265686, Val Accuracy: 93.14533233642578\n",
            "Epoch 293, Loss: 3.9198501110076904, Accuracy: 98.79882049560547, Val Loss: 0.455899715423584, Val Accuracy: 93.14875793457031\n",
            "Epoch 294, Loss: 3.9237945079803467, Accuracy: 98.52582550048828, Val Loss: 0.4561915099620819, Val Accuracy: 93.15123748779297\n",
            "Epoch 295, Loss: 3.9221434593200684, Accuracy: 98.66374969482422, Val Loss: 0.456879198551178, Val Accuracy: 93.15131378173828\n",
            "Epoch 296, Loss: 3.919788122177124, Accuracy: 98.65800476074219, Val Loss: 0.45753157138824463, Val Accuracy: 93.15093231201172\n",
            "Epoch 297, Loss: 3.918977737426758, Accuracy: 98.62352752685547, Val Loss: 0.45806166529655457, Val Accuracy: 93.15459442138672\n",
            "Epoch 298, Loss: 3.9158706665039062, Accuracy: 98.75858306884766, Val Loss: 0.4585707187652588, Val Accuracy: 93.15770721435547\n",
            "Epoch 299, Loss: 3.9256184101104736, Accuracy: 98.5804214477539, Val Loss: 0.45894038677215576, Val Accuracy: 93.16080474853516\n",
            "Epoch 300, Loss: 3.917468309402466, Accuracy: 98.70111083984375, Val Loss: 0.45916685461997986, Val Accuracy: 93.16621398925781\n",
            "Epoch 301, Loss: 3.916839122772217, Accuracy: 98.77582550048828, Val Loss: 0.4596363604068756, Val Accuracy: 93.1677474975586\n",
            "Epoch 302, Loss: 3.917064905166626, Accuracy: 98.72410583496094, Val Loss: 0.4600544273853302, Val Accuracy: 93.17017364501953\n",
            "Epoch 303, Loss: 3.9259283542633057, Accuracy: 98.56892395019531, Val Loss: 0.4605119228363037, Val Accuracy: 93.17236328125\n",
            "Epoch 304, Loss: 3.9201791286468506, Accuracy: 98.72410583496094, Val Loss: 0.4610862135887146, Val Accuracy: 93.17176818847656\n",
            "Epoch 305, Loss: 3.928973913192749, Accuracy: 98.41661834716797, Val Loss: 0.4614630341529846, Val Accuracy: 93.1751937866211\n",
            "Epoch 306, Loss: 3.929173231124878, Accuracy: 98.54592895507812, Val Loss: 0.4619918167591095, Val Accuracy: 93.17586517333984\n",
            "Epoch 307, Loss: 3.919851303100586, Accuracy: 98.65225982666016, Val Loss: 0.4624996781349182, Val Accuracy: 93.17770385742188\n",
            "Epoch 308, Loss: 3.9252638816833496, Accuracy: 98.59478759765625, Val Loss: 0.46272629499435425, Val Accuracy: 93.180419921875\n",
            "Epoch 309, Loss: 3.9220595359802246, Accuracy: 98.66374969482422, Val Loss: 0.4630947709083557, Val Accuracy: 93.18363189697266\n",
            "Epoch 310, Loss: 3.9196834564208984, Accuracy: 98.69536590576172, Val Loss: 0.4637489318847656, Val Accuracy: 93.18513488769531\n",
            "Epoch 311, Loss: 3.914685010910034, Accuracy: 98.80168914794922, Val Loss: 0.4645521342754364, Val Accuracy: 93.18576049804688\n",
            "Epoch 312, Loss: 3.916259765625, Accuracy: 98.79594421386719, Val Loss: 0.4652153253555298, Val Accuracy: 93.1860122680664\n",
            "Epoch 313, Loss: 3.921773910522461, Accuracy: 98.6781234741211, Val Loss: 0.4657064974308014, Val Accuracy: 93.1872787475586\n",
            "Epoch 314, Loss: 3.925215244293213, Accuracy: 98.54881286621094, Val Loss: 0.4661630392074585, Val Accuracy: 93.18962860107422\n",
            "Epoch 315, Loss: 3.917875289916992, Accuracy: 98.67237854003906, Val Loss: 0.46647346019744873, Val Accuracy: 93.19123077392578\n",
            "Epoch 316, Loss: 3.916032314300537, Accuracy: 98.77870178222656, Val Loss: 0.46668827533721924, Val Accuracy: 93.1929702758789\n",
            "Epoch 317, Loss: 3.9162659645080566, Accuracy: 98.82467651367188, Val Loss: 0.4671933948993683, Val Accuracy: 93.19355773925781\n",
            "Epoch 318, Loss: 3.9187021255493164, Accuracy: 98.73271942138672, Val Loss: 0.46739333868026733, Val Accuracy: 93.19649505615234\n",
            "Epoch 319, Loss: 3.916607618331909, Accuracy: 98.7844467163086, Val Loss: 0.46778976917266846, Val Accuracy: 93.19869995117188\n",
            "Epoch 320, Loss: 3.9157302379608154, Accuracy: 98.77582550048828, Val Loss: 0.46844005584716797, Val Accuracy: 93.1991958618164\n",
            "Epoch 321, Loss: 3.917656421661377, Accuracy: 98.73271942138672, Val Loss: 0.4690471589565277, Val Accuracy: 93.20130157470703\n",
            "Epoch 322, Loss: 3.9196646213531494, Accuracy: 98.74134063720703, Val Loss: 0.46939024329185486, Val Accuracy: 93.2019271850586\n",
            "Epoch 323, Loss: 3.9189627170562744, Accuracy: 98.75283813476562, Val Loss: 0.46964794397354126, Val Accuracy: 93.20471954345703\n",
            "Epoch 324, Loss: 3.9261724948883057, Accuracy: 98.52007293701172, Val Loss: 0.4700462818145752, Val Accuracy: 93.20756530761719\n",
            "Epoch 325, Loss: 3.9211864471435547, Accuracy: 98.69248962402344, Val Loss: 0.4704337418079376, Val Accuracy: 93.20780944824219\n",
            "Epoch 326, Loss: 3.916144371032715, Accuracy: 98.7154769897461, Val Loss: 0.4709356427192688, Val Accuracy: 93.20750427246094\n",
            "Epoch 327, Loss: 3.917100429534912, Accuracy: 98.72122955322266, Val Loss: 0.4711577892303467, Val Accuracy: 93.2101058959961\n",
            "Epoch 328, Loss: 3.9144506454467773, Accuracy: 98.80168914794922, Val Loss: 0.4715180993080139, Val Accuracy: 93.21241760253906\n",
            "Epoch 329, Loss: 3.917412281036377, Accuracy: 98.72410583496094, Val Loss: 0.47192180156707764, Val Accuracy: 93.21382141113281\n",
            "Epoch 330, Loss: 3.9268336296081543, Accuracy: 98.54306030273438, Val Loss: 0.47229933738708496, Val Accuracy: 93.21652221679688\n",
            "Epoch 331, Loss: 3.9186956882476807, Accuracy: 98.79019165039062, Val Loss: 0.4725869297981262, Val Accuracy: 93.21913146972656\n",
            "Epoch 332, Loss: 3.918306350708008, Accuracy: 98.76720428466797, Val Loss: 0.47296348214149475, Val Accuracy: 93.22248077392578\n",
            "Epoch 333, Loss: 3.917901039123535, Accuracy: 98.72697448730469, Val Loss: 0.47372543811798096, Val Accuracy: 93.22233581542969\n",
            "Epoch 334, Loss: 3.9180240631103516, Accuracy: 98.81605529785156, Val Loss: 0.47400689125061035, Val Accuracy: 93.22450256347656\n",
            "Epoch 335, Loss: 3.9160447120666504, Accuracy: 98.68961334228516, Val Loss: 0.47446560859680176, Val Accuracy: 93.22584533691406\n",
            "Epoch 336, Loss: 3.923267126083374, Accuracy: 98.56604766845703, Val Loss: 0.47473010420799255, Val Accuracy: 93.22643280029297\n",
            "Epoch 337, Loss: 3.9170761108398438, Accuracy: 98.72985076904297, Val Loss: 0.4750531315803528, Val Accuracy: 93.22998046875\n",
            "Epoch 338, Loss: 3.9164531230926514, Accuracy: 98.7557144165039, Val Loss: 0.47530868649482727, Val Accuracy: 93.23175811767578\n",
            "Epoch 339, Loss: 3.916712522506714, Accuracy: 98.78157043457031, Val Loss: 0.47541892528533936, Val Accuracy: 93.23333740234375\n",
            "Epoch 340, Loss: 3.9216411113739014, Accuracy: 98.59766387939453, Val Loss: 0.4757339656352997, Val Accuracy: 93.23435974121094\n",
            "Epoch 341, Loss: 3.9254541397094727, Accuracy: 98.59191131591797, Val Loss: 0.4756014943122864, Val Accuracy: 93.23638153076172\n",
            "Epoch 342, Loss: 3.9174082279205322, Accuracy: 98.79882049560547, Val Loss: 0.47592225670814514, Val Accuracy: 93.23719024658203\n",
            "Epoch 343, Loss: 3.922769069671631, Accuracy: 98.65225982666016, Val Loss: 0.47617655992507935, Val Accuracy: 93.23819732666016\n",
            "Epoch 344, Loss: 3.9125711917877197, Accuracy: 98.7930679321289, Val Loss: 0.476388543844223, Val Accuracy: 93.24038696289062\n",
            "Epoch 345, Loss: 3.9211254119873047, Accuracy: 98.62352752685547, Val Loss: 0.4768631160259247, Val Accuracy: 93.24210357666016\n",
            "Epoch 346, Loss: 3.9181177616119385, Accuracy: 98.72410583496094, Val Loss: 0.4771655201911926, Val Accuracy: 93.24446105957031\n",
            "Epoch 347, Loss: 3.9201176166534424, Accuracy: 98.72410583496094, Val Loss: 0.4774121642112732, Val Accuracy: 93.24766540527344\n",
            "Epoch 348, Loss: 3.923004150390625, Accuracy: 98.66088104248047, Val Loss: 0.47770845890045166, Val Accuracy: 93.24986267089844\n",
            "Epoch 349, Loss: 3.9212701320648193, Accuracy: 98.69248962402344, Val Loss: 0.47802630066871643, Val Accuracy: 93.25153350830078\n",
            "Epoch 350, Loss: 3.9149646759033203, Accuracy: 98.79019165039062, Val Loss: 0.47825488448143005, Val Accuracy: 93.25467681884766\n",
            "Epoch 351, Loss: 3.9146835803985596, Accuracy: 98.7844467163086, Val Loss: 0.478424608707428, Val Accuracy: 93.25761413574219\n",
            "Epoch 352, Loss: 3.9186208248138428, Accuracy: 98.72697448730469, Val Loss: 0.47870180010795593, Val Accuracy: 93.25989532470703\n",
            "Epoch 353, Loss: 3.919280529022217, Accuracy: 98.73271942138672, Val Loss: 0.47886890172958374, Val Accuracy: 93.26158142089844\n",
            "Epoch 354, Loss: 3.920919179916382, Accuracy: 98.58616638183594, Val Loss: 0.4789887070655823, Val Accuracy: 93.26306915283203\n",
            "Epoch 355, Loss: 3.9111902713775635, Accuracy: 98.84192657470703, Val Loss: 0.47933605313301086, Val Accuracy: 93.26416015625\n",
            "Epoch 356, Loss: 3.913212537765503, Accuracy: 98.87353515625, Val Loss: 0.47959989309310913, Val Accuracy: 93.26708984375\n",
            "Epoch 357, Loss: 3.9161205291748047, Accuracy: 98.72122955322266, Val Loss: 0.47977373003959656, Val Accuracy: 93.26905822753906\n",
            "Epoch 358, Loss: 3.9101319313049316, Accuracy: 98.8993911743164, Val Loss: 0.4801044762134552, Val Accuracy: 93.27037048339844\n",
            "Epoch 359, Loss: 3.9113271236419678, Accuracy: 98.91375732421875, Val Loss: 0.48028266429901123, Val Accuracy: 93.2711181640625\n",
            "Epoch 360, Loss: 3.920501708984375, Accuracy: 98.66950225830078, Val Loss: 0.48054611682891846, Val Accuracy: 93.27336883544922\n",
            "Epoch 361, Loss: 3.916330337524414, Accuracy: 98.76432800292969, Val Loss: 0.48069489002227783, Val Accuracy: 93.27629852294922\n",
            "Epoch 362, Loss: 3.9120733737945557, Accuracy: 98.87353515625, Val Loss: 0.48086974024772644, Val Accuracy: 93.27802276611328\n",
            "Epoch 363, Loss: 3.928572177886963, Accuracy: 98.54881286621094, Val Loss: 0.4811110496520996, Val Accuracy: 93.27986145019531\n",
            "Epoch 364, Loss: 3.916604518890381, Accuracy: 98.7930679321289, Val Loss: 0.4814741909503937, Val Accuracy: 93.28205871582031\n",
            "Epoch 365, Loss: 3.917872667312622, Accuracy: 98.79594421386719, Val Loss: 0.4817541241645813, Val Accuracy: 93.28475189208984\n",
            "Epoch 366, Loss: 3.927475929260254, Accuracy: 98.50570678710938, Val Loss: 0.4820927083492279, Val Accuracy: 93.28816223144531\n",
            "Epoch 367, Loss: 3.9217991828918457, Accuracy: 98.53157043457031, Val Loss: 0.4823065996170044, Val Accuracy: 93.29144287109375\n",
            "Epoch 368, Loss: 3.9160075187683105, Accuracy: 98.76720428466797, Val Loss: 0.4829210638999939, Val Accuracy: 93.2918701171875\n",
            "Epoch 369, Loss: 3.9146840572357178, Accuracy: 98.82755279541016, Val Loss: 0.48331040143966675, Val Accuracy: 93.29357147216797\n",
            "Epoch 370, Loss: 3.9204065799713135, Accuracy: 98.70398712158203, Val Loss: 0.4835614264011383, Val Accuracy: 93.29557800292969\n",
            "Epoch 371, Loss: 3.9198060035705566, Accuracy: 98.68961334228516, Val Loss: 0.4840339124202728, Val Accuracy: 93.29641723632812\n",
            "Epoch 372, Loss: 3.921527624130249, Accuracy: 98.64651489257812, Val Loss: 0.48424726724624634, Val Accuracy: 93.29766845703125\n",
            "Epoch 373, Loss: 3.914630651473999, Accuracy: 98.87640380859375, Val Loss: 0.48448196053504944, Val Accuracy: 93.2985610961914\n",
            "Epoch 374, Loss: 3.912306785583496, Accuracy: 98.85916137695312, Val Loss: 0.4847562909126282, Val Accuracy: 93.29762268066406\n",
            "Epoch 375, Loss: 3.9313807487487793, Accuracy: 98.46546936035156, Val Loss: 0.48495444655418396, Val Accuracy: 93.29911041259766\n",
            "Epoch 376, Loss: 3.921987533569336, Accuracy: 98.68961334228516, Val Loss: 0.48511791229248047, Val Accuracy: 93.30203247070312\n",
            "Epoch 377, Loss: 3.914498805999756, Accuracy: 98.80743408203125, Val Loss: 0.4854419529438019, Val Accuracy: 93.30313873291016\n",
            "Epoch 378, Loss: 3.9160101413726807, Accuracy: 98.87065887451172, Val Loss: 0.48563531041145325, Val Accuracy: 93.30513763427734\n",
            "Epoch 379, Loss: 3.9216995239257812, Accuracy: 98.68099975585938, Val Loss: 0.4857375919818878, Val Accuracy: 93.30694580078125\n",
            "Epoch 380, Loss: 3.9169418811798096, Accuracy: 98.77295684814453, Val Loss: 0.4859761595726013, Val Accuracy: 93.3058853149414\n",
            "Epoch 381, Loss: 3.9139156341552734, Accuracy: 98.85916137695312, Val Loss: 0.4862900972366333, Val Accuracy: 93.3086929321289\n",
            "Epoch 382, Loss: 3.912508726119995, Accuracy: 98.91950988769531, Val Loss: 0.48658791184425354, Val Accuracy: 93.31060028076172\n",
            "Epoch 383, Loss: 3.9149820804595947, Accuracy: 98.84479522705078, Val Loss: 0.4868311285972595, Val Accuracy: 93.31231689453125\n",
            "Epoch 384, Loss: 3.9110469818115234, Accuracy: 98.98847961425781, Val Loss: 0.4871182143688202, Val Accuracy: 93.31472778320312\n",
            "Epoch 385, Loss: 3.9111480712890625, Accuracy: 98.90226745605469, Val Loss: 0.487563818693161, Val Accuracy: 93.31578063964844\n",
            "Epoch 386, Loss: 3.9159066677093506, Accuracy: 98.76720428466797, Val Loss: 0.487842321395874, Val Accuracy: 93.31764221191406\n",
            "Epoch 387, Loss: 3.9118831157684326, Accuracy: 98.90226745605469, Val Loss: 0.4883043169975281, Val Accuracy: 93.31845092773438\n",
            "Epoch 388, Loss: 3.9101455211639404, Accuracy: 98.97698211669922, Val Loss: 0.4887027442455292, Val Accuracy: 93.32152557373047\n",
            "Epoch 389, Loss: 3.909627914428711, Accuracy: 98.8993911743164, Val Loss: 0.4891670346260071, Val Accuracy: 93.32377624511719\n",
            "Epoch 390, Loss: 3.912050485610962, Accuracy: 98.85916137695312, Val Loss: 0.48929181694984436, Val Accuracy: 93.32757568359375\n",
            "Epoch 391, Loss: 3.9106805324554443, Accuracy: 98.89364624023438, Val Loss: 0.48967400193214417, Val Accuracy: 93.3294448852539\n",
            "Epoch 392, Loss: 3.911581516265869, Accuracy: 98.95686340332031, Val Loss: 0.4899786114692688, Val Accuracy: 93.33136749267578\n",
            "Epoch 393, Loss: 3.9132726192474365, Accuracy: 98.84479522705078, Val Loss: 0.49037787318229675, Val Accuracy: 93.33251953125\n",
            "Epoch 394, Loss: 3.918382167816162, Accuracy: 98.69248962402344, Val Loss: 0.4907386302947998, Val Accuracy: 93.33402252197266\n",
            "Epoch 395, Loss: 3.910078525543213, Accuracy: 98.97410583496094, Val Loss: 0.49106889963150024, Val Accuracy: 93.33619689941406\n",
            "Epoch 396, Loss: 3.9106786251068115, Accuracy: 98.92525482177734, Val Loss: 0.49142760038375854, Val Accuracy: 93.33642578125\n",
            "Epoch 397, Loss: 3.915898561477661, Accuracy: 98.88214874267578, Val Loss: 0.4915991425514221, Val Accuracy: 93.33944702148438\n",
            "Epoch 398, Loss: 3.912260055541992, Accuracy: 98.88789367675781, Val Loss: 0.4916480481624603, Val Accuracy: 93.34148406982422\n",
            "Epoch 399, Loss: 3.9165775775909424, Accuracy: 98.85054016113281, Val Loss: 0.4919404089450836, Val Accuracy: 93.34367370605469\n",
            "Epoch 400, Loss: 3.912876844406128, Accuracy: 98.91375732421875, Val Loss: 0.492281973361969, Val Accuracy: 93.34671783447266\n",
            "Epoch 401, Loss: 3.9179437160491943, Accuracy: 98.81317901611328, Val Loss: 0.4923475682735443, Val Accuracy: 93.34928131103516\n",
            "Epoch 402, Loss: 3.9128170013427734, Accuracy: 98.9597396850586, Val Loss: 0.49251946806907654, Val Accuracy: 93.35047912597656\n",
            "Epoch 403, Loss: 3.9057531356811523, Accuracy: 99.02008819580078, Val Loss: 0.49275705218315125, Val Accuracy: 93.35387420654297\n",
            "Epoch 404, Loss: 3.912353515625, Accuracy: 98.95686340332031, Val Loss: 0.4929852783679962, Val Accuracy: 93.35584259033203\n",
            "Epoch 405, Loss: 3.9122314453125, Accuracy: 98.90801239013672, Val Loss: 0.49326038360595703, Val Accuracy: 93.35684967041016\n",
            "Epoch 406, Loss: 3.9085896015167236, Accuracy: 98.99996948242188, Val Loss: 0.4934094548225403, Val Accuracy: 93.35846710205078\n",
            "Epoch 407, Loss: 3.9107248783111572, Accuracy: 98.94249725341797, Val Loss: 0.4935552775859833, Val Accuracy: 93.36257934570312\n",
            "Epoch 408, Loss: 3.908921718597412, Accuracy: 98.99996948242188, Val Loss: 0.49411171674728394, Val Accuracy: 93.36495971679688\n",
            "Epoch 409, Loss: 3.910382032394409, Accuracy: 98.98847961425781, Val Loss: 0.4943130314350128, Val Accuracy: 93.36676788330078\n",
            "Epoch 410, Loss: 3.915729284286499, Accuracy: 98.89077758789062, Val Loss: 0.4948588013648987, Val Accuracy: 93.3680648803711\n",
            "Epoch 411, Loss: 3.911085605621338, Accuracy: 98.95686340332031, Val Loss: 0.49537497758865356, Val Accuracy: 93.36859130859375\n",
            "Epoch 412, Loss: 3.916356325149536, Accuracy: 98.75283813476562, Val Loss: 0.4959110915660858, Val Accuracy: 93.36878204345703\n",
            "Epoch 413, Loss: 3.912047863006592, Accuracy: 98.93387603759766, Val Loss: 0.49653786420822144, Val Accuracy: 93.36929321289062\n",
            "Epoch 414, Loss: 3.910425901412964, Accuracy: 98.96260833740234, Val Loss: 0.49698758125305176, Val Accuracy: 93.37178802490234\n",
            "Epoch 415, Loss: 3.9112823009490967, Accuracy: 98.91375732421875, Val Loss: 0.49746423959732056, Val Accuracy: 93.3724594116211\n",
            "Epoch 416, Loss: 3.9122345447540283, Accuracy: 98.91950988769531, Val Loss: 0.4979947805404663, Val Accuracy: 93.37317657470703\n",
            "Epoch 417, Loss: 3.913252353668213, Accuracy: 98.81031036376953, Val Loss: 0.4984143078327179, Val Accuracy: 93.37237548828125\n",
            "Epoch 418, Loss: 3.912703514099121, Accuracy: 98.91664123535156, Val Loss: 0.49865055084228516, Val Accuracy: 93.37385559082031\n",
            "Epoch 419, Loss: 3.918316602706909, Accuracy: 98.79882049560547, Val Loss: 0.49920007586479187, Val Accuracy: 93.3734359741211\n",
            "Epoch 420, Loss: 3.9132044315338135, Accuracy: 98.85916137695312, Val Loss: 0.49980634450912476, Val Accuracy: 93.37220764160156\n",
            "Epoch 421, Loss: 3.9199578762054443, Accuracy: 98.73271942138672, Val Loss: 0.5002031922340393, Val Accuracy: 93.3721694946289\n",
            "Epoch 422, Loss: 3.9128432273864746, Accuracy: 98.86490631103516, Val Loss: 0.5006327033042908, Val Accuracy: 93.37342071533203\n",
            "Epoch 423, Loss: 3.9200611114501953, Accuracy: 98.67524719238281, Val Loss: 0.5009974837303162, Val Accuracy: 93.37407684326172\n",
            "Epoch 424, Loss: 3.911651611328125, Accuracy: 98.910888671875, Val Loss: 0.5013119578361511, Val Accuracy: 93.3753662109375\n",
            "Epoch 425, Loss: 3.9112839698791504, Accuracy: 98.93387603759766, Val Loss: 0.5015430450439453, Val Accuracy: 93.37767028808594\n",
            "Epoch 426, Loss: 3.9133803844451904, Accuracy: 98.8620376586914, Val Loss: 0.5017862319946289, Val Accuracy: 93.3799057006836\n",
            "Epoch 427, Loss: 3.9120092391967773, Accuracy: 98.88214874267578, Val Loss: 0.5020197033882141, Val Accuracy: 93.38134002685547\n",
            "Epoch 428, Loss: 3.9133784770965576, Accuracy: 98.96260833740234, Val Loss: 0.5022556185722351, Val Accuracy: 93.38388061523438\n",
            "Epoch 429, Loss: 3.9160003662109375, Accuracy: 98.7844467163086, Val Loss: 0.5022343993186951, Val Accuracy: 93.38560485839844\n",
            "Epoch 430, Loss: 3.9206786155700684, Accuracy: 98.71260833740234, Val Loss: 0.5021833777427673, Val Accuracy: 93.38764953613281\n",
            "Epoch 431, Loss: 3.912604808807373, Accuracy: 98.97410583496094, Val Loss: 0.5022979974746704, Val Accuracy: 93.3882064819336\n",
            "Epoch 432, Loss: 3.9152817726135254, Accuracy: 98.83042907714844, Val Loss: 0.5025683045387268, Val Accuracy: 93.38981628417969\n",
            "Epoch 433, Loss: 3.9128005504608154, Accuracy: 98.89364624023438, Val Loss: 0.5027063488960266, Val Accuracy: 93.3899917602539\n",
            "Epoch 434, Loss: 3.9091217517852783, Accuracy: 99.0287094116211, Val Loss: 0.5028728246688843, Val Accuracy: 93.39279174804688\n",
            "Epoch 435, Loss: 3.915788173675537, Accuracy: 98.84479522705078, Val Loss: 0.5030975937843323, Val Accuracy: 93.39328002929688\n",
            "Epoch 436, Loss: 3.912576198577881, Accuracy: 98.91950988769531, Val Loss: 0.5036820769309998, Val Accuracy: 93.39044189453125\n",
            "Epoch 437, Loss: 3.9123148918151855, Accuracy: 98.91950988769531, Val Loss: 0.5039183497428894, Val Accuracy: 93.39098358154297\n",
            "Epoch 438, Loss: 3.91342830657959, Accuracy: 98.96260833740234, Val Loss: 0.5039132833480835, Val Accuracy: 93.39334106445312\n",
            "Epoch 439, Loss: 3.913686752319336, Accuracy: 98.8993911743164, Val Loss: 0.5040682554244995, Val Accuracy: 93.39552307128906\n",
            "Epoch 440, Loss: 3.908567428588867, Accuracy: 98.94249725341797, Val Loss: 0.504074215888977, Val Accuracy: 93.39791107177734\n",
            "Epoch 441, Loss: 3.9128570556640625, Accuracy: 98.91950988769531, Val Loss: 0.504416286945343, Val Accuracy: 93.39750671386719\n",
            "Epoch 442, Loss: 3.911236047744751, Accuracy: 98.95686340332031, Val Loss: 0.5048382878303528, Val Accuracy: 93.3969955444336\n",
            "Epoch 443, Loss: 3.9132919311523438, Accuracy: 98.88789367675781, Val Loss: 0.505163311958313, Val Accuracy: 93.39803314208984\n",
            "Epoch 444, Loss: 3.9137752056121826, Accuracy: 98.95111846923828, Val Loss: 0.505402684211731, Val Accuracy: 93.40023803710938\n",
            "Epoch 445, Loss: 3.9095916748046875, Accuracy: 99.00284576416016, Val Loss: 0.5060713291168213, Val Accuracy: 93.39768981933594\n",
            "Epoch 446, Loss: 3.9147603511810303, Accuracy: 98.83904266357422, Val Loss: 0.5066544413566589, Val Accuracy: 93.39830780029297\n",
            "Epoch 447, Loss: 3.912099599838257, Accuracy: 98.85916137695312, Val Loss: 0.5073106288909912, Val Accuracy: 93.4002456665039\n",
            "Epoch 448, Loss: 3.9152374267578125, Accuracy: 98.84479522705078, Val Loss: 0.507940948009491, Val Accuracy: 93.40070343017578\n",
            "Epoch 449, Loss: 3.915757656097412, Accuracy: 98.80743408203125, Val Loss: 0.5082722902297974, Val Accuracy: 93.4029312133789\n",
            "Epoch 450, Loss: 3.914963722229004, Accuracy: 98.89364624023438, Val Loss: 0.5088067054748535, Val Accuracy: 93.40408325195312\n",
            "Epoch 451, Loss: 3.916029453277588, Accuracy: 98.82755279541016, Val Loss: 0.5094060897827148, Val Accuracy: 93.4041748046875\n",
            "Epoch 452, Loss: 3.91455078125, Accuracy: 98.82755279541016, Val Loss: 0.5099050998687744, Val Accuracy: 93.40447235107422\n",
            "Epoch 453, Loss: 3.9086415767669678, Accuracy: 98.93675231933594, Val Loss: 0.5103305578231812, Val Accuracy: 93.40556335449219\n",
            "Epoch 454, Loss: 3.9115233421325684, Accuracy: 98.87928009033203, Val Loss: 0.5107797980308533, Val Accuracy: 93.40660858154297\n",
            "Epoch 455, Loss: 3.911466360092163, Accuracy: 98.9597396850586, Val Loss: 0.5111055374145508, Val Accuracy: 93.40868377685547\n",
            "Epoch 456, Loss: 3.914407968521118, Accuracy: 98.82180786132812, Val Loss: 0.5116418600082397, Val Accuracy: 93.40911865234375\n",
            "Epoch 457, Loss: 3.9078826904296875, Accuracy: 99.04307556152344, Val Loss: 0.5120893120765686, Val Accuracy: 93.40859985351562\n",
            "Epoch 458, Loss: 3.9098072052001953, Accuracy: 98.94537353515625, Val Loss: 0.5122553110122681, Val Accuracy: 93.4106674194336\n",
            "Epoch 459, Loss: 3.9146921634674072, Accuracy: 98.84767150878906, Val Loss: 0.512580931186676, Val Accuracy: 93.41173553466797\n",
            "Epoch 460, Loss: 3.9086365699768066, Accuracy: 98.9683609008789, Val Loss: 0.5129956603050232, Val Accuracy: 93.41240692138672\n",
            "Epoch 461, Loss: 3.914344310760498, Accuracy: 98.88502502441406, Val Loss: 0.5133040547370911, Val Accuracy: 93.41444396972656\n",
            "Epoch 462, Loss: 3.9107799530029297, Accuracy: 98.94249725341797, Val Loss: 0.5137547850608826, Val Accuracy: 93.4170150756836\n",
            "Epoch 463, Loss: 3.915785789489746, Accuracy: 98.91375732421875, Val Loss: 0.514150857925415, Val Accuracy: 93.41742706298828\n",
            "Epoch 464, Loss: 3.9193115234375, Accuracy: 98.78157043457031, Val Loss: 0.5145745277404785, Val Accuracy: 93.41851806640625\n",
            "Epoch 465, Loss: 3.914388418197632, Accuracy: 98.93675231933594, Val Loss: 0.5147826075553894, Val Accuracy: 93.41925811767578\n",
            "Epoch 466, Loss: 3.9126834869384766, Accuracy: 98.87640380859375, Val Loss: 0.5151220560073853, Val Accuracy: 93.4197998046875\n",
            "Epoch 467, Loss: 3.9100091457366943, Accuracy: 98.96549224853516, Val Loss: 0.5152763724327087, Val Accuracy: 93.4212646484375\n",
            "Epoch 468, Loss: 3.908240795135498, Accuracy: 98.97698211669922, Val Loss: 0.5158603191375732, Val Accuracy: 93.42205047607422\n",
            "Epoch 469, Loss: 3.912567615509033, Accuracy: 98.91950988769531, Val Loss: 0.5160574913024902, Val Accuracy: 93.4249038696289\n",
            "Epoch 470, Loss: 3.911172389984131, Accuracy: 98.97698211669922, Val Loss: 0.5166005492210388, Val Accuracy: 93.42562866210938\n",
            "Epoch 471, Loss: 3.916414499282837, Accuracy: 98.80168914794922, Val Loss: 0.5169910788536072, Val Accuracy: 93.42581939697266\n",
            "Epoch 472, Loss: 3.9113597869873047, Accuracy: 98.93099975585938, Val Loss: 0.5172876119613647, Val Accuracy: 93.42658233642578\n",
            "Epoch 473, Loss: 3.9110844135284424, Accuracy: 98.97123718261719, Val Loss: 0.5173757672309875, Val Accuracy: 93.43012237548828\n",
            "Epoch 474, Loss: 3.909874439239502, Accuracy: 99.00859069824219, Val Loss: 0.517619788646698, Val Accuracy: 93.43212127685547\n",
            "Epoch 475, Loss: 3.9126877784729004, Accuracy: 98.90226745605469, Val Loss: 0.5179107189178467, Val Accuracy: 93.43091583251953\n",
            "Epoch 476, Loss: 3.9084670543670654, Accuracy: 98.98560333251953, Val Loss: 0.5179547667503357, Val Accuracy: 93.43356323242188\n",
            "Epoch 477, Loss: 3.910642623901367, Accuracy: 98.84192657470703, Val Loss: 0.5181261301040649, Val Accuracy: 93.43525695800781\n",
            "Epoch 478, Loss: 3.9097869396209717, Accuracy: 99.01434326171875, Val Loss: 0.5182822942733765, Val Accuracy: 93.43684387207031\n",
            "Epoch 479, Loss: 3.9058635234832764, Accuracy: 99.086181640625, Val Loss: 0.5185813307762146, Val Accuracy: 93.43814086914062\n",
            "Epoch 480, Loss: 3.9048147201538086, Accuracy: 99.06319427490234, Val Loss: 0.5188902020454407, Val Accuracy: 93.43844604492188\n",
            "Epoch 481, Loss: 3.9108927249908447, Accuracy: 98.99422454833984, Val Loss: 0.5189990401268005, Val Accuracy: 93.439453125\n",
            "Epoch 482, Loss: 3.912738561630249, Accuracy: 98.8993911743164, Val Loss: 0.5192469954490662, Val Accuracy: 93.44026184082031\n",
            "Epoch 483, Loss: 3.9146902561187744, Accuracy: 98.83904266357422, Val Loss: 0.5195417404174805, Val Accuracy: 93.44046783447266\n",
            "Epoch 484, Loss: 3.9038283824920654, Accuracy: 99.14077758789062, Val Loss: 0.5196889042854309, Val Accuracy: 93.44207763671875\n",
            "Epoch 485, Loss: 3.909933567047119, Accuracy: 98.91375732421875, Val Loss: 0.5199829339981079, Val Accuracy: 93.4423599243164\n",
            "Epoch 486, Loss: 3.91186261177063, Accuracy: 98.92813110351562, Val Loss: 0.5202256441116333, Val Accuracy: 93.44396209716797\n",
            "Epoch 487, Loss: 3.907892942428589, Accuracy: 98.94249725341797, Val Loss: 0.520482063293457, Val Accuracy: 93.44489288330078\n",
            "Epoch 488, Loss: 3.9200942516326904, Accuracy: 98.72697448730469, Val Loss: 0.5211106538772583, Val Accuracy: 93.4444351196289\n",
            "Epoch 489, Loss: 3.920870542526245, Accuracy: 98.69536590576172, Val Loss: 0.5214097499847412, Val Accuracy: 93.44578552246094\n",
            "Epoch 490, Loss: 3.9106557369232178, Accuracy: 98.95111846923828, Val Loss: 0.5217747092247009, Val Accuracy: 93.44786834716797\n",
            "Epoch 491, Loss: 3.910039186477661, Accuracy: 98.97410583496094, Val Loss: 0.5222523808479309, Val Accuracy: 93.44767761230469\n",
            "Epoch 492, Loss: 3.9173858165740967, Accuracy: 98.76720428466797, Val Loss: 0.5224758386611938, Val Accuracy: 93.44905853271484\n",
            "Epoch 493, Loss: 3.908160924911499, Accuracy: 98.96549224853516, Val Loss: 0.5226392149925232, Val Accuracy: 93.45167541503906\n",
            "Epoch 494, Loss: 3.9081380367279053, Accuracy: 99.07756042480469, Val Loss: 0.5228698253631592, Val Accuracy: 93.45355224609375\n",
            "Epoch 495, Loss: 3.913311719894409, Accuracy: 98.8993911743164, Val Loss: 0.5230432152748108, Val Accuracy: 93.45509338378906\n",
            "Epoch 496, Loss: 3.9079055786132812, Accuracy: 99.04882049560547, Val Loss: 0.5233469605445862, Val Accuracy: 93.45704650878906\n",
            "Epoch 497, Loss: 3.9047186374664307, Accuracy: 99.08330535888672, Val Loss: 0.5236064195632935, Val Accuracy: 93.45838928222656\n",
            "Epoch 498, Loss: 3.9109954833984375, Accuracy: 98.99422454833984, Val Loss: 0.5239419341087341, Val Accuracy: 93.4582748413086\n",
            "Epoch 499, Loss: 3.914639711380005, Accuracy: 98.89652252197266, Val Loss: 0.5241890549659729, Val Accuracy: 93.45993041992188\n",
            "Epoch 500, Loss: 3.9116785526275635, Accuracy: 98.89077758789062, Val Loss: 0.5243946313858032, Val Accuracy: 93.46145629882812\n"
          ],
          "name": "stdout"
        }
      ]
    },
    {
      "cell_type": "code",
      "metadata": {
        "colab": {
          "base_uri": "https://localhost:8080/"
        },
        "id": "YL8GZksRSYXz",
        "outputId": "2c2b7a76-2222-406f-b464-d8365d99d7f1"
      },
      "source": [
        "for test_images, test_labels in test_ds:\n",
        "    test_step(test_images, test_labels)\n",
        "print(f'Test Loss: {test_loss.result()}')\n",
        "print(f'Test Accuracy: {test_acc.result() * 100}')"
      ],
      "execution_count": 97,
      "outputs": [
        {
          "output_type": "stream",
          "text": [
            "Test Loss: 0.559937596321106\n",
            "Test Accuracy: 92.64449310302734\n"
          ],
          "name": "stdout"
        }
      ]
    },
    {
      "cell_type": "markdown",
      "metadata": {
        "id": "Y7Ok3Htx0DIb"
      },
      "source": [
        "---\n",
        "\n",
        "## Step 3: Test a Model on New Images\n",
        "\n",
        "To give yourself more insight into how your model is working, download at least five pictures of German traffic signs from the web and use your model to predict the traffic sign type.\n",
        "\n",
        "You may find `signnames.csv` useful as it contains mappings from the class id (integer) to the actual sign name."
      ]
    },
    {
      "cell_type": "markdown",
      "metadata": {
        "id": "Cn7AaKL_0DIb"
      },
      "source": [
        "### Load and Output the Images"
      ]
    },
    {
      "cell_type": "code",
      "metadata": {
        "collapsed": true,
        "id": "RXZbcRR20DIc"
      },
      "source": [
        "### Load the images and plot them here.\n",
        "### Feel free to use as many code cells as needed."
      ],
      "execution_count": 86,
      "outputs": []
    },
    {
      "cell_type": "markdown",
      "metadata": {
        "id": "qpCWrzTG0DIc"
      },
      "source": [
        "### Predict the Sign Type for Each Image"
      ]
    },
    {
      "cell_type": "code",
      "metadata": {
        "collapsed": true,
        "id": "hZF6lsh-0DIc"
      },
      "source": [
        "### Run the predictions here and use the model to output the prediction for each image.\n",
        "### Make sure to pre-process the images with the same pre-processing pipeline used earlier.\n",
        "### Feel free to use as many code cells as needed."
      ],
      "execution_count": 87,
      "outputs": []
    },
    {
      "cell_type": "markdown",
      "metadata": {
        "id": "wN0kPphP0DIc"
      },
      "source": [
        "### Analyze Performance"
      ]
    },
    {
      "cell_type": "code",
      "metadata": {
        "collapsed": true,
        "id": "ewv0O2B00DId"
      },
      "source": [
        "### Calculate the accuracy for these 5 new images. \n",
        "### For example, if the model predicted 1 out of 5 signs correctly, it's 20% accurate on these new images."
      ],
      "execution_count": 88,
      "outputs": []
    },
    {
      "cell_type": "markdown",
      "metadata": {
        "id": "oBYl2spd0DId"
      },
      "source": [
        "### Output Top 5 Softmax Probabilities For Each Image Found on the Web"
      ]
    },
    {
      "cell_type": "markdown",
      "metadata": {
        "id": "5wzB_69M0DId"
      },
      "source": [
        "For each of the new images, print out the model's softmax probabilities to show the **certainty** of the model's predictions (limit the output to the top 5 probabilities for each image). [`tf.nn.top_k`](https://www.tensorflow.org/versions/r0.12/api_docs/python/nn.html#top_k) could prove helpful here. \n",
        "\n",
        "The example below demonstrates how tf.nn.top_k can be used to find the top k predictions for each image.\n",
        "\n",
        "`tf.nn.top_k` will return the values and indices (class ids) of the top k predictions. So if k=3, for each sign, it'll return the 3 largest probabilities (out of a possible 43) and the correspoding class ids.\n",
        "\n",
        "Take this numpy array as an example. The values in the array represent predictions. The array contains softmax probabilities for five candidate images with six possible classes. `tf.nn.top_k` is used to choose the three classes with the highest probability:\n",
        "\n",
        "```\n",
        "# (5, 6) array\n",
        "a = np.array([[ 0.24879643,  0.07032244,  0.12641572,  0.34763842,  0.07893497,\n",
        "         0.12789202],\n",
        "       [ 0.28086119,  0.27569815,  0.08594638,  0.0178669 ,  0.18063401,\n",
        "         0.15899337],\n",
        "       [ 0.26076848,  0.23664738,  0.08020603,  0.07001922,  0.1134371 ,\n",
        "         0.23892179],\n",
        "       [ 0.11943333,  0.29198961,  0.02605103,  0.26234032,  0.1351348 ,\n",
        "         0.16505091],\n",
        "       [ 0.09561176,  0.34396535,  0.0643941 ,  0.16240774,  0.24206137,\n",
        "         0.09155967]])\n",
        "```\n",
        "\n",
        "Running it through `sess.run(tf.nn.top_k(tf.constant(a), k=3))` produces:\n",
        "\n",
        "```\n",
        "TopKV2(values=array([[ 0.34763842,  0.24879643,  0.12789202],\n",
        "       [ 0.28086119,  0.27569815,  0.18063401],\n",
        "       [ 0.26076848,  0.23892179,  0.23664738],\n",
        "       [ 0.29198961,  0.26234032,  0.16505091],\n",
        "       [ 0.34396535,  0.24206137,  0.16240774]]), indices=array([[3, 0, 5],\n",
        "       [0, 1, 4],\n",
        "       [0, 5, 1],\n",
        "       [1, 3, 5],\n",
        "       [1, 4, 3]], dtype=int32))\n",
        "```\n",
        "\n",
        "Looking just at the first row we get `[ 0.34763842,  0.24879643,  0.12789202]`, you can confirm these are the 3 largest probabilities in `a`. You'll also notice `[3, 0, 5]` are the corresponding indices."
      ]
    },
    {
      "cell_type": "code",
      "metadata": {
        "collapsed": true,
        "id": "T-Y87jOj0DId"
      },
      "source": [
        "### Print out the top five softmax probabilities for the predictions on the German traffic sign images found on the web. \n",
        "### Feel free to use as many code cells as needed."
      ],
      "execution_count": 89,
      "outputs": []
    },
    {
      "cell_type": "markdown",
      "metadata": {
        "id": "CrOCtuBI0DIe"
      },
      "source": [
        "### Project Writeup\n",
        "\n",
        "Once you have completed the code implementation, document your results in a project writeup using this [template](https://github.com/udacity/CarND-Traffic-Sign-Classifier-Project/blob/master/writeup_template.md) as a guide. The writeup can be in a markdown or pdf file. "
      ]
    },
    {
      "cell_type": "markdown",
      "metadata": {
        "id": "4HlEyXSS0DIe"
      },
      "source": [
        "> **Note**: Once you have completed all of the code implementations and successfully answered each question above, you may finalize your work by exporting the iPython Notebook as an HTML document. You can do this by using the menu above and navigating to  \\n\",\n",
        "    \"**File -> Download as -> HTML (.html)**. Include the finished document along with this notebook as your submission."
      ]
    },
    {
      "cell_type": "markdown",
      "metadata": {
        "id": "SN4FAI3I0DIe"
      },
      "source": [
        "---\n",
        "\n",
        "## Step 4 (Optional): Visualize the Neural Network's State with Test Images\n",
        "\n",
        " This Section is not required to complete but acts as an additional excersise for understaning the output of a neural network's weights. While neural networks can be a great learning device they are often referred to as a black box. We can understand what the weights of a neural network look like better by plotting their feature maps. After successfully training your neural network you can see what it's feature maps look like by plotting the output of the network's weight layers in response to a test stimuli image. From these plotted feature maps, it's possible to see what characteristics of an image the network finds interesting. For a sign, maybe the inner network feature maps react with high activation to the sign's boundary outline or to the contrast in the sign's painted symbol.\n",
        "\n",
        " Provided for you below is the function code that allows you to get the visualization output of any tensorflow weight layer you want. The inputs to the function should be a stimuli image, one used during training or a new one you provided, and then the tensorflow variable name that represents the layer's state during the training process, for instance if you wanted to see what the [LeNet lab's](https://classroom.udacity.com/nanodegrees/nd013/parts/fbf77062-5703-404e-b60c-95b78b2f3f9e/modules/6df7ae49-c61c-4bb2-a23e-6527e69209ec/lessons/601ae704-1035-4287-8b11-e2c2716217ad/concepts/d4aca031-508f-4e0b-b493-e7b706120f81) feature maps looked like for it's second convolutional layer you could enter conv2 as the tf_activation variable.\n",
        "\n",
        "For an example of what feature map outputs look like, check out NVIDIA's results in their paper [End-to-End Deep Learning for Self-Driving Cars](https://devblogs.nvidia.com/parallelforall/deep-learning-self-driving-cars/) in the section Visualization of internal CNN State. NVIDIA was able to show that their network's inner weights had high activations to road boundary lines by comparing feature maps from an image with a clear path to one without. Try experimenting with a similar test to show that your trained network's weights are looking for interesting features, whether it's looking at differences in feature maps from images with or without a sign, or even what feature maps look like in a trained network vs a completely untrained one on the same sign image.\n",
        "\n",
        "<figure>\n",
        " <img src=\"https://github.com/huiba/CarND-Traffic-Sign-Classifier-Project/blob/master/visualize_cnn.png?raw=1\" width=\"380\" alt=\"Combined Image\" />\n",
        " <figcaption>\n",
        " <p></p> \n",
        " <p style=\"text-align: center;\"> Your output should look something like this (above)</p> \n",
        " </figcaption>\n",
        "</figure>\n",
        " <p></p> \n"
      ]
    },
    {
      "cell_type": "code",
      "metadata": {
        "collapsed": true,
        "id": "K-HOpr6m0DIe"
      },
      "source": [
        "### Visualize your network's feature maps here.\n",
        "### Feel free to use as many code cells as needed.\n",
        "\n",
        "# image_input: the test image being fed into the network to produce the feature maps\n",
        "# tf_activation: should be a tf variable name used during your training procedure that represents the calculated state of a specific weight layer\n",
        "# activation_min/max: can be used to view the activation contrast in more detail, by default matplot sets min and max to the actual min and max values of the output\n",
        "# plt_num: used to plot out multiple different weight feature map sets on the same block, just extend the plt number for each new feature map entry\n",
        "\n",
        "def outputFeatureMap(image_input, tf_activation, activation_min=-1, activation_max=-1 ,plt_num=1):\n",
        "    # Here make sure to preprocess your image_input in a way your network expects\n",
        "    # with size, normalization, ect if needed\n",
        "    # image_input =\n",
        "    # Note: x should be the same name as your network's tensorflow data placeholder variable\n",
        "    # If you get an error tf_activation is not defined it may be having trouble accessing the variable from inside a function\n",
        "    activation = tf_activation.eval(session=sess,feed_dict={x : image_input})\n",
        "    featuremaps = activation.shape[3]\n",
        "    plt.figure(plt_num, figsize=(15,15))\n",
        "    for featuremap in range(featuremaps):\n",
        "        plt.subplot(6,8, featuremap+1) # sets the number of feature maps to show on each row and column\n",
        "        plt.title('FeatureMap ' + str(featuremap)) # displays the feature map number\n",
        "        if activation_min != -1 & activation_max != -1:\n",
        "            plt.imshow(activation[0,:,:, featuremap], interpolation=\"nearest\", vmin =activation_min, vmax=activation_max, cmap=\"gray\")\n",
        "        elif activation_max != -1:\n",
        "            plt.imshow(activation[0,:,:, featuremap], interpolation=\"nearest\", vmax=activation_max, cmap=\"gray\")\n",
        "        elif activation_min !=-1:\n",
        "            plt.imshow(activation[0,:,:, featuremap], interpolation=\"nearest\", vmin=activation_min, cmap=\"gray\")\n",
        "        else:\n",
        "            plt.imshow(activation[0,:,:, featuremap], interpolation=\"nearest\", cmap=\"gray\")"
      ],
      "execution_count": 90,
      "outputs": []
    },
    {
      "cell_type": "code",
      "metadata": {
        "id": "2iqoFWXSGkpU"
      },
      "source": [
        ""
      ],
      "execution_count": 90,
      "outputs": []
    }
  ]
}